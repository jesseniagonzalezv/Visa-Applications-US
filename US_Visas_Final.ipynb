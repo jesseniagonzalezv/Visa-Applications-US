{
 "cells": [
  {
   "cell_type": "markdown",
   "metadata": {},
   "source": [
    "# Análisis de solicitudes a la visa de trabajo de Estados Unidos mediante Aprendizaje Automático"
   ]
  },
  {
   "cell_type": "markdown",
   "metadata": {},
   "source": [
    "### Jessenia Gonzalez, Iván Peñaranda, Francisco Fujiki y Percy Tippe"
   ]
  },
  {
   "cell_type": "markdown",
   "metadata": {},
   "source": [
    "## Exploración de los datos"
   ]
  },
  {
   "cell_type": "code",
   "execution_count": 1,
   "metadata": {
    "collapsed": true
   },
   "outputs": [],
   "source": [
    "import numpy as np\n",
    "import pandas as pd\n",
    "%matplotlib inline\n",
    "import matplotlib.pyplot as plt\n",
    "import seaborn as sns"
   ]
  },
  {
   "cell_type": "code",
   "execution_count": 2,
   "metadata": {
    "collapsed": true
   },
   "outputs": [],
   "source": [
    "import multiprocessing\n",
    "pool = multiprocessing.Pool(processes=8)"
   ]
  },
  {
   "cell_type": "code",
   "execution_count": 4,
   "metadata": {},
   "outputs": [
    {
     "name": "stderr",
     "output_type": "stream",
     "text": [
      "C:\\Users\\Francisco\\Anaconda3\\lib\\site-packages\\IPython\\core\\interactiveshell.py:2698: DtypeWarning: Columns (0,1,2,3,4,5,6,7,10,11,16,17,20,21,22,25,26,27,28,29,30,31,32,33,34,35,36,37,39,40,41,42,43,44,45,47,48,49,50,51,52,53,55,56,57,58,59,60,61,63,64,65,66,68,69,70,71,72,73,74,77,79,80,81,82,83,84,85,86,87,88,89,90,91,92,93,94,95,100,101,103,104,105,106,107,108,109,110,111,112,113,114,115,116,117,118,119,120,121,122,123,124,125,126,127,128,129,130,131,132,133,134,135,136,137,138,139,140,141,142,143,144,145,146,147,148,149,150,153) have mixed types. Specify dtype option on import or set low_memory=False.\n",
      "  interactivity=interactivity, compiler=compiler, result=result)\n"
     ]
    }
   ],
   "source": [
    "visas = pd.read_csv('us_perm_visas.csv')"
   ]
  },
  {
   "cell_type": "markdown",
   "metadata": {},
   "source": [
    "El conjunto de datos está conformado por más de 374000 observaciones y posee 154 variables."
   ]
  },
  {
   "cell_type": "code",
   "execution_count": 5,
   "metadata": {},
   "outputs": [
    {
     "data": {
      "text/plain": [
       "(374362, 154)"
      ]
     },
     "execution_count": 5,
     "metadata": {},
     "output_type": "execute_result"
    }
   ],
   "source": [
    "visas.shape"
   ]
  },
  {
   "cell_type": "markdown",
   "metadata": {},
   "source": [
    "Los nombres de las variables que conforman el conjunto de datos son los siguientes:"
   ]
  },
  {
   "cell_type": "code",
   "execution_count": 6,
   "metadata": {},
   "outputs": [
    {
     "name": "stdout",
     "output_type": "stream",
     "text": [
      "['add_these_pw_job_title_9089' 'agent_city' 'agent_firm_name'\n",
      " 'agent_state' 'application_type' 'case_no' 'case_number'\n",
      " 'case_received_date' 'case_status' 'class_of_admission'\n",
      " 'country_of_citizenship' 'country_of_citzenship' 'decision_date'\n",
      " 'employer_address_1' 'employer_address_2' 'employer_city'\n",
      " 'employer_country' 'employer_decl_info_title' 'employer_name'\n",
      " 'employer_num_employees' 'employer_phone' 'employer_phone_ext'\n",
      " 'employer_postal_code' 'employer_state' 'employer_yr_estab'\n",
      " 'foreign_worker_info_alt_edu_experience'\n",
      " 'foreign_worker_info_birth_country' 'foreign_worker_info_city'\n",
      " 'foreign_worker_info_education' 'foreign_worker_info_education_other'\n",
      " 'foreign_worker_info_inst' 'foreign_worker_info_major'\n",
      " 'foreign_worker_info_postal_code' 'foreign_worker_info_rel_occup_exp'\n",
      " 'foreign_worker_info_req_experience' 'foreign_worker_info_state'\n",
      " 'foreign_worker_info_training_comp' 'foreign_worker_ownership_interest'\n",
      " 'foreign_worker_yr_rel_edu_completed' 'fw_info_alt_edu_experience'\n",
      " 'fw_info_birth_country' 'fw_info_education_other' 'fw_info_postal_code'\n",
      " 'fw_info_rel_occup_exp' 'fw_info_req_experience' 'fw_info_training_comp'\n",
      " 'fw_info_yr_rel_edu_completed' 'fw_ownership_interest'\n",
      " 'ji_foreign_worker_live_on_premises' 'ji_fw_live_on_premises'\n",
      " 'ji_live_in_dom_svc_contract' 'ji_live_in_domestic_service'\n",
      " 'ji_offered_to_sec_j_foreign_worker' 'ji_offered_to_sec_j_fw'\n",
      " 'job_info_alt_cmb_ed_oth_yrs' 'job_info_alt_combo_ed'\n",
      " 'job_info_alt_combo_ed_exp' 'job_info_alt_combo_ed_other'\n",
      " 'job_info_alt_field' 'job_info_alt_field_name' 'job_info_alt_occ'\n",
      " 'job_info_alt_occ_job_title' 'job_info_alt_occ_num_months'\n",
      " 'job_info_combo_occupation' 'job_info_education'\n",
      " 'job_info_education_other' 'job_info_experience'\n",
      " 'job_info_experience_num_months' 'job_info_foreign_ed'\n",
      " 'job_info_foreign_lang_req' 'job_info_job_req_normal'\n",
      " 'job_info_job_title' 'job_info_major' 'job_info_training'\n",
      " 'job_info_training_field' 'job_info_training_num_months'\n",
      " 'job_info_work_city' 'job_info_work_postal_code' 'job_info_work_state'\n",
      " 'naics_2007_us_code' 'naics_2007_us_title' 'naics_code' 'naics_title'\n",
      " 'naics_us_code' 'naics_us_code_2007' 'naics_us_title'\n",
      " 'naics_us_title_2007' 'orig_case_no' 'orig_file_date'\n",
      " 'preparer_info_emp_completed' 'preparer_info_title' 'pw_amount_9089'\n",
      " 'pw_determ_date' 'pw_expire_date' 'pw_job_title_908' 'pw_job_title_9089'\n",
      " 'pw_level_9089' 'pw_soc_code' 'pw_soc_title' 'pw_source_name_9089'\n",
      " 'pw_source_name_other_9089' 'pw_track_num' 'pw_unit_of_pay_9089'\n",
      " 'rec_info_barg_rep_notified' 'recr_info_barg_rep_notified'\n",
      " 'recr_info_coll_teach_comp_proc' 'recr_info_coll_univ_teacher'\n",
      " 'recr_info_employer_rec_payment' 'recr_info_first_ad_start'\n",
      " 'recr_info_job_fair_from' 'recr_info_job_fair_to'\n",
      " 'recr_info_on_campus_recr_from' 'recr_info_on_campus_recr_to'\n",
      " 'recr_info_pro_org_advert_from' 'recr_info_pro_org_advert_to'\n",
      " 'recr_info_prof_org_advert_from' 'recr_info_prof_org_advert_to'\n",
      " 'recr_info_professional_occ' 'recr_info_radio_tv_ad_from'\n",
      " 'recr_info_radio_tv_ad_to' 'recr_info_second_ad_start'\n",
      " 'recr_info_sunday_newspaper' 'recr_info_swa_job_order_end'\n",
      " 'recr_info_swa_job_order_start' 'refile' 'ri_1st_ad_newspaper_name'\n",
      " 'ri_2nd_ad_newspaper_name' 'ri_2nd_ad_newspaper_or_journal'\n",
      " 'ri_campus_placement_from' 'ri_campus_placement_to'\n",
      " 'ri_coll_tch_basic_process' 'ri_coll_teach_pro_jnl'\n",
      " 'ri_coll_teach_select_date' 'ri_employee_referral_prog_from'\n",
      " 'ri_employee_referral_prog_to' 'ri_employer_web_post_from'\n",
      " 'ri_employer_web_post_to' 'ri_job_search_website_from'\n",
      " 'ri_job_search_website_to' 'ri_layoff_in_past_six_months'\n",
      " 'ri_local_ethnic_paper_from' 'ri_local_ethnic_paper_to'\n",
      " 'ri_posted_notice_at_worksite' 'ri_pvt_employment_firm_from'\n",
      " 'ri_pvt_employment_firm_to' 'ri_us_workers_considered'\n",
      " 'schd_a_sheepherder' 'us_economic_sector' 'wage_offer_from_9089'\n",
      " 'wage_offer_to_9089' 'wage_offer_unit_of_pay_9089'\n",
      " 'wage_offered_from_9089' 'wage_offered_to_9089'\n",
      " 'wage_offered_unit_of_pay_9089']\n"
     ]
    }
   ],
   "source": [
    "print(visas.columns.values)"
   ]
  },
  {
   "cell_type": "markdown",
   "metadata": {},
   "source": [
    "La información corresponde a solicitudes de diferentes tipos de visa de Estados Unidos. Sin embargo, muchas de ellas registran pocas peticiones tal como se puede observar a continuación."
   ]
  },
  {
   "cell_type": "code",
   "execution_count": 7,
   "metadata": {},
   "outputs": [
    {
     "data": {
      "text/plain": [
       "H-1B          283018\n",
       "L-1            19938\n",
       "F-1            14946\n",
       "Not in USA      8588\n",
       "TN              4265\n",
       "E-2             4237\n",
       "B-2             3333\n",
       "Parolee         2678\n",
       "EWI             1955\n",
       "J-1              963\n",
       "F-2              960\n",
       "E-3              878\n",
       "O-1              805\n",
       "H-4              739\n",
       "B-1              620\n",
       "H-1B1            551\n",
       "E-1              549\n",
       "L-2              531\n",
       "H-2B             412\n",
       "TPS              187\n",
       "P-1              178\n",
       "H-2A             157\n",
       "A1/A2            155\n",
       "R-1              112\n",
       "G-4              108\n",
       "J-2              101\n",
       "I                 82\n",
       "G-5               64\n",
       "VWT               58\n",
       "H-1A              41\n",
       "C-1               40\n",
       "P-3               40\n",
       "H-3               37\n",
       "A-3               29\n",
       "M-1               26\n",
       "O-2               20\n",
       "TD                15\n",
       "O-3               12\n",
       "G-1               11\n",
       "VWB               10\n",
       "H-1C               8\n",
       "R-2                7\n",
       "C-3                7\n",
       "Parol              6\n",
       "P-4                6\n",
       "D-1                6\n",
       "Q                  5\n",
       "N                  4\n",
       "T-1                4\n",
       "M-2                3\n",
       "P-2                2\n",
       "AOS/H-1B           2\n",
       "K-1                2\n",
       "V-2                2\n",
       "U-1                2\n",
       "AOS                1\n",
       "H1B                1\n",
       "Name: class_of_admission, dtype: int64"
      ]
     },
     "execution_count": 7,
     "metadata": {},
     "output_type": "execute_result"
    }
   ],
   "source": [
    "# Número de peticiones de cada categoría \n",
    "visas[\"class_of_admission\"].value_counts()"
   ]
  },
  {
   "cell_type": "markdown",
   "metadata": {},
   "source": [
    "En la siguiente gráfica se aprecian aquellas categorías que registran más de 1000 solicitudes. Se observa que la categoría más solicitada es la H-1B y dada la controversia generada en torno a dicha visa hemos decidido centrar nuestro trabajo en ésta. "
   ]
  },
  {
   "cell_type": "code",
   "execution_count": 8,
   "metadata": {
    "collapsed": true
   },
   "outputs": [],
   "source": [
    "# Masking de visas con más de 1000 aplicaciones\n",
    "visas_1000 = visas[\"class_of_admission\"].value_counts()>1000"
   ]
  },
  {
   "cell_type": "code",
   "execution_count": 9,
   "metadata": {},
   "outputs": [
    {
     "data": {
      "text/plain": [
       "Text(0.5,0,'Tipo de visa')"
      ]
     },
     "execution_count": 9,
     "metadata": {},
     "output_type": "execute_result"
    },
    {
     "data": {
      "image/png": "[encoded data removed]",
      "text/plain": [
       "<matplotlib.figure.Figure at 0x185ffc51940>"
      ]
     },
     "metadata": {},
     "output_type": "display_data"
    }
   ],
   "source": [
    "# Gráfica de categorías de visas con más de 1000 solicitudes\n",
    "plt.figure(figsize=(10,10))\n",
    "visas.class_of_admission.value_counts()[visas_1000].plot(kind=\"bar\", figsize=(6,6), stacked=False)\n",
    "plt.ylabel('Número de solicitudes')\n",
    "plt.xlabel('Tipo de visa')"
   ]
  },
  {
   "cell_type": "markdown",
   "metadata": {},
   "source": [
    "Cada tipo de visa puede obtener 4 clases de resultados diferentes: Certified, Certified-Expired, Denied y Withdrawn. Para la visa H-1B la distribución del resultado obtenido se muestra continuación."
   ]
  },
  {
   "cell_type": "code",
   "execution_count": 10,
   "metadata": {},
   "outputs": [
    {
     "data": {
      "text/plain": [
       "Certified            139312\n",
       "Certified-Expired    116842\n",
       "Denied                14313\n",
       "Withdrawn             12551\n",
       "Name: case_status, dtype: int64"
      ]
     },
     "execution_count": 10,
     "metadata": {},
     "output_type": "execute_result"
    }
   ],
   "source": [
    "# Número de casos en cada categoría del status para las visas H-1B\n",
    "(visas[visas.class_of_admission==\"H-1B\"])['case_status'].value_counts()"
   ]
  },
  {
   "cell_type": "code",
   "execution_count": 11,
   "metadata": {},
   "outputs": [
    {
     "data": {
      "text/plain": [
       "Text(0.5,0,'Resultado de la solicitud')"
      ]
     },
     "execution_count": 11,
     "metadata": {},
     "output_type": "execute_result"
    },
    {
     "data": {
      "image/png": "[encoded data removed]",
      "text/plain": [
       "<matplotlib.figure.Figure at 0x185ffc51a90>"
      ]
     },
     "metadata": {},
     "output_type": "display_data"
    }
   ],
   "source": [
    "# Histograma de casos en cada categoría del status para las visas H-1B\n",
    "plt.figure(figsize=(7,5))\n",
    "(visas[visas.class_of_admission==\"H-1B\"])['case_status'].hist()\n",
    "plt.ylabel('Cantidad de solicitudes')\n",
    "plt.xlabel('Resultado de la solicitud')"
   ]
  },
  {
   "cell_type": "markdown",
   "metadata": {},
   "source": [
    "De acuerdo con estos resultados una baja proporción de las visas son denegadas. Lo cual indica que nuestro conjunto de datos está desbalanceado y debido a ello será necesario implementar algún método que equilibre la proporción de visas aceptadas y visas negadas, tal como se efectuará posteriormente. Otro problema que presentan los datos es que existen muchas variables con un elevado número de valores faltantes."
   ]
  },
  {
   "cell_type": "code",
   "execution_count": 12,
   "metadata": {},
   "outputs": [
    {
     "data": {
      "text/plain": [
       "add_these_pw_job_title_9089               332168\n",
       "agent_city                                162908\n",
       "agent_firm_name                           167365\n",
       "agent_state                               166123\n",
       "application_type                          239093\n",
       "case_no                                   239093\n",
       "case_number                               135269\n",
       "case_received_date                        135271\n",
       "case_status                                    0\n",
       "class_of_admission                         22845\n",
       "country_of_citizenship                     20633\n",
       "country_of_citzenship                     353788\n",
       "decision_date                                  0\n",
       "employer_address_1                            42\n",
       "employer_address_2                        149192\n",
       "employer_city                                 14\n",
       "employer_country                          135343\n",
       "employer_decl_info_title                  135308\n",
       "employer_name                                 12\n",
       "employer_num_employees                    135349\n",
       "employer_phone                            135305\n",
       "employer_phone_ext                        350901\n",
       "employer_postal_code                          37\n",
       "employer_state                                42\n",
       "employer_yr_estab                         135404\n",
       "foreign_worker_info_alt_edu_experience    285737\n",
       "foreign_worker_info_birth_country         285734\n",
       "foreign_worker_info_city                  135297\n",
       "foreign_worker_info_education             135309\n",
       "foreign_worker_info_education_other       370422\n",
       "                                           ...  \n",
       "refile                                    256283\n",
       "ri_1st_ad_newspaper_name                  137629\n",
       "ri_2nd_ad_newspaper_name                  137659\n",
       "ri_2nd_ad_newspaper_or_journal            141448\n",
       "ri_campus_placement_from                  344359\n",
       "ri_campus_placement_to                    344369\n",
       "ri_coll_tch_basic_process                 367349\n",
       "ri_coll_teach_pro_jnl                     221787\n",
       "ri_coll_teach_select_date                 368632\n",
       "ri_employee_referral_prog_from            305641\n",
       "ri_employee_referral_prog_to              305640\n",
       "ri_employer_web_post_from                 237726\n",
       "ri_employer_web_post_to                   237748\n",
       "ri_job_search_website_from                177571\n",
       "ri_job_search_website_to                  177581\n",
       "ri_layoff_in_past_six_months              135303\n",
       "ri_local_ethnic_paper_from                253481\n",
       "ri_local_ethnic_paper_to                  253481\n",
       "ri_posted_notice_at_worksite              135360\n",
       "ri_pvt_employment_firm_from               357920\n",
       "ri_pvt_employment_firm_to                 357922\n",
       "ri_us_workers_considered                  357129\n",
       "schd_a_sheepherder                        135288\n",
       "us_economic_sector                        245294\n",
       "wage_offer_from_9089                      114771\n",
       "wage_offer_to_9089                        300728\n",
       "wage_offer_unit_of_pay_9089               115916\n",
       "wage_offered_from_9089                    259715\n",
       "wage_offered_to_9089                      343347\n",
       "wage_offered_unit_of_pay_9089             303663\n",
       "Length: 154, dtype: int64"
      ]
     },
     "execution_count": 12,
     "metadata": {},
     "output_type": "execute_result"
    }
   ],
   "source": [
    "# Número de casos faltantes en cada variable\n",
    "visas.isnull().sum()"
   ]
  },
  {
   "cell_type": "markdown",
   "metadata": {},
   "source": [
    "Se muestra a continuación el resultado de las solicitudes presentadas cada año. La cifra de solicitudes aceptadas mantiene una tendencia de crecimiento y alcanza su máximo en 2016. Llama la atención que la cantidad de solicitudes denegadas muestra poca variación, especialmente a partir de 2013."
   ]
  },
  {
   "cell_type": "code",
   "execution_count": 13,
   "metadata": {},
   "outputs": [
    {
     "data": {
      "text/plain": [
       "Text(0.5,0,'Año de solicitud')"
      ]
     },
     "execution_count": 13,
     "metadata": {},
     "output_type": "execute_result"
    },
    {
     "data": {
      "image/png": "[encoded data removed]",
      "text/plain": [
       "<matplotlib.figure.Figure at 0x185eb124ba8>"
      ]
     },
     "metadata": {},
     "output_type": "display_data"
    }
   ],
   "source": [
    "# Conversión de la fecha para que contenga solo el año de presentación de la solicitud\n",
    "# Adaptado parcialmente de https://www.kaggle.com/elzawie/us-permanent-visa-applications-v1-1\n",
    "\n",
    "df = visas\n",
    "year = []\n",
    "\n",
    "for date in df['decision_date']:\n",
    "    year.append(pd.to_datetime(date).year)\n",
    "    \n",
    "df['year'] = year\n",
    "\n",
    "plt.figure(figsize=(7,5))\n",
    "sns.countplot(x=\"year\", hue=\"case_status\", data=df)\n",
    "plt.ylabel('Número de solicitudes')\n",
    "plt.xlabel('Año de solicitud')"
   ]
  },
  {
   "cell_type": "markdown",
   "metadata": {},
   "source": [
    "La mayoría de variables que conforma el conjunto de datos es de tipo categórico. Al realizar la descripción de las variables numéricas se puede afirmar que existen notables diferencias en la escala de estas variables, razón por la cual será necesario llevar a cabo algún tipo de escalamiento."
   ]
  },
  {
   "cell_type": "code",
   "execution_count": 14,
   "metadata": {},
   "outputs": [
    {
     "data": {
      "text/plain": [
       "Index(['employer_num_employees', 'employer_yr_estab',\n",
       "       'foreign_worker_yr_rel_edu_completed', 'fw_info_yr_rel_edu_completed',\n",
       "       'job_info_alt_cmb_ed_oth_yrs', 'job_info_alt_occ_num_months',\n",
       "       'job_info_experience_num_months', 'job_info_training_num_months',\n",
       "       'wage_offered_from_9089', 'wage_offered_to_9089', 'year'],\n",
       "      dtype='object')"
      ]
     },
     "execution_count": 14,
     "metadata": {},
     "output_type": "execute_result"
    }
   ],
   "source": [
    "# Lista de variables numéricas\n",
    "visas._get_numeric_data().columns"
   ]
  },
  {
   "cell_type": "code",
   "execution_count": 15,
   "metadata": {},
   "outputs": [
    {
     "name": "stdout",
     "output_type": "stream",
     "text": [
      "       employer_num_employees  employer_yr_estab  \\\n",
      "count               239013.00          238958.00   \n",
      "mean                 23093.87            1984.21   \n",
      "std                 545312.85              38.47   \n",
      "min                      0.00               0.00   \n",
      "25%                     73.00            1980.00   \n",
      "50%                   1200.00            1996.00   \n",
      "75%                  16134.00            2004.00   \n",
      "max              263550614.00            2016.00   \n",
      "\n",
      "       foreign_worker_yr_rel_edu_completed  fw_info_yr_rel_edu_completed  \\\n",
      "count                             83364.00                     137198.00   \n",
      "mean                               2001.35                       2002.63   \n",
      "std                                  91.44                         89.67   \n",
      "min                                   0.00                          0.00   \n",
      "25%                                2003.00                       2004.00   \n",
      "50%                                2006.00                       2007.00   \n",
      "75%                                2010.00                       2011.00   \n",
      "max                                2103.00                       2207.00   \n",
      "\n",
      "       job_info_alt_cmb_ed_oth_yrs  job_info_alt_occ_num_months  \\\n",
      "count                     70220.00                    147200.00   \n",
      "mean                          4.59                        36.48   \n",
      "std                           4.84                        23.39   \n",
      "min                           0.00                         0.00   \n",
      "25%                           3.00                        24.00   \n",
      "50%                           5.00                        24.00   \n",
      "75%                           5.00                        60.00   \n",
      "max                          96.00                       240.00   \n",
      "\n",
      "       job_info_experience_num_months  job_info_training_num_months  \\\n",
      "count                       133188.00                       4779.00   \n",
      "mean                            33.10                         32.69   \n",
      "std                             22.73                         20.59   \n",
      "min                              0.00                          0.00   \n",
      "25%                             12.00                         12.00   \n",
      "50%                             24.00                         36.00   \n",
      "75%                             60.00                         36.00   \n",
      "max                            244.00                        240.00   \n",
      "\n",
      "       wage_offered_from_9089  wage_offered_to_9089      year  \n",
      "count               114647.00              31015.00 374362.00  \n",
      "mean                 95888.46             123227.31   2014.60  \n",
      "std                 146382.17             108028.87      1.36  \n",
      "min                      6.70                  0.00   2011.00  \n",
      "25%                  74534.00              97001.00   2014.00  \n",
      "50%                  90644.00             120600.00   2015.00  \n",
      "75%                 110000.00             144841.92   2016.00  \n",
      "max               16290600.00           13285000.00   2016.00  \n"
     ]
    }
   ],
   "source": [
    "# Estadísticos de las variables numéricas\n",
    "with pd.option_context('float_format', '{:.2f}'.format): print(visas.describe())"
   ]
  },
  {
   "cell_type": "markdown",
   "metadata": {},
   "source": [
    "## Preprocesamiento de los datos"
   ]
  },
  {
   "cell_type": "markdown",
   "metadata": {},
   "source": [
    "Tal como se mencionó anteriormente, nuestro trabajo se concentrará en el análisis de la categoría de visa H-1B. Es por ello que se creó un nuevo conjunto de datos en el que únicamente se incluyen éstas. "
   ]
  },
  {
   "cell_type": "code",
   "execution_count": 16,
   "metadata": {
    "collapsed": true
   },
   "outputs": [],
   "source": [
    "# Creación de un nuevo dataset que incluye solamente las visas de categoría H-1B\n",
    "visasH = visas\n",
    "visasH = visasH[visasH.class_of_admission == 'H-1B']"
   ]
  },
  {
   "cell_type": "markdown",
   "metadata": {},
   "source": [
    "Dado que tanto el status Certified-Expired como Withdrawn corresponden a decisiones que toman el empleado en el primer caso, y el empleador en el otro caso, se optó por retirar aquellas observaciones cuyo status corresponda a estos resultados. "
   ]
  },
  {
   "cell_type": "code",
   "execution_count": 17,
   "metadata": {
    "collapsed": true
   },
   "outputs": [],
   "source": [
    "# Eliminación de los casos cuyo status es Certified-Expired o Withdrawn\n",
    "visasH = visasH[visasH.case_status != 'Certified-Expired']\n",
    "visasH = visasH[visasH.case_status != 'Withdrawn']"
   ]
  },
  {
   "cell_type": "code",
   "execution_count": 18,
   "metadata": {},
   "outputs": [
    {
     "data": {
      "text/plain": [
       "Certified    139312\n",
       "Denied        14313\n",
       "Name: case_status, dtype: int64"
      ]
     },
     "execution_count": 18,
     "metadata": {},
     "output_type": "execute_result"
    }
   ],
   "source": [
    "visasH['case_status'].value_counts()"
   ]
  },
  {
   "cell_type": "markdown",
   "metadata": {},
   "source": [
    "Otro problema del conjunto de datos es que algunas variables como es el caso de pw_amount_9089 y wage_offer_from_9089 (tipos de salario) poseen datos que en apariencia son numéricos pero en realidad mezclan datos de tipo float y str. Además, no todos los salarios que conforman esta variable se miden usando la misma unidad. Por tales razones es necesario procesar estas variables del modo que se muestra a continuación."
   ]
  },
  {
   "cell_type": "code",
   "execution_count": 19,
   "metadata": {},
   "outputs": [
    {
     "data": {
      "text/html": [
       "<div>\n",
       "<style>\n",
       "    .dataframe thead tr:only-child th {\n",
       "        text-align: right;\n",
       "    }\n",
       "\n",
       "    .dataframe thead th {\n",
       "        text-align: left;\n",
       "    }\n",
       "\n",
       "    .dataframe tbody tr th {\n",
       "        vertical-align: top;\n",
       "    }\n",
       "</style>\n",
       "<table border=\"1\" class=\"dataframe\">\n",
       "  <thead>\n",
       "    <tr style=\"text-align: right;\">\n",
       "      <th></th>\n",
       "      <th>pw_amount_9089</th>\n",
       "      <th>pw_unit_of_pay_9089</th>\n",
       "    </tr>\n",
       "  </thead>\n",
       "  <tbody>\n",
       "    <tr>\n",
       "      <th>2</th>\n",
       "      <td>47923</td>\n",
       "      <td>yr</td>\n",
       "    </tr>\n",
       "    <tr>\n",
       "      <th>8</th>\n",
       "      <td>44824</td>\n",
       "      <td>yr</td>\n",
       "    </tr>\n",
       "    <tr>\n",
       "      <th>11</th>\n",
       "      <td>46176</td>\n",
       "      <td>yr</td>\n",
       "    </tr>\n",
       "    <tr>\n",
       "      <th>12</th>\n",
       "      <td>34.3</td>\n",
       "      <td>hr</td>\n",
       "    </tr>\n",
       "    <tr>\n",
       "      <th>13</th>\n",
       "      <td>74672</td>\n",
       "      <td>yr</td>\n",
       "    </tr>\n",
       "    <tr>\n",
       "      <th>16</th>\n",
       "      <td>28.05</td>\n",
       "      <td>hr</td>\n",
       "    </tr>\n",
       "    <tr>\n",
       "      <th>20</th>\n",
       "      <td>141731</td>\n",
       "      <td>yr</td>\n",
       "    </tr>\n",
       "    <tr>\n",
       "      <th>24</th>\n",
       "      <td>NaN</td>\n",
       "      <td>NaN</td>\n",
       "    </tr>\n",
       "    <tr>\n",
       "      <th>28</th>\n",
       "      <td>38646</td>\n",
       "      <td>yr</td>\n",
       "    </tr>\n",
       "    <tr>\n",
       "      <th>32</th>\n",
       "      <td>23340</td>\n",
       "      <td>yr</td>\n",
       "    </tr>\n",
       "  </tbody>\n",
       "</table>\n",
       "</div>"
      ],
      "text/plain": [
       "   pw_amount_9089 pw_unit_of_pay_9089\n",
       "2           47923                  yr\n",
       "8           44824                  yr\n",
       "11          46176                  yr\n",
       "12           34.3                  hr\n",
       "13          74672                  yr\n",
       "16          28.05                  hr\n",
       "20         141731                  yr\n",
       "24            NaN                 NaN\n",
       "28          38646                  yr\n",
       "32          23340                  yr"
      ]
     },
     "execution_count": 19,
     "metadata": {},
     "output_type": "execute_result"
    }
   ],
   "source": [
    "visasH[['pw_amount_9089','pw_unit_of_pay_9089']].head(10)"
   ]
  },
  {
   "cell_type": "code",
   "execution_count": 20,
   "metadata": {
    "collapsed": true
   },
   "outputs": [],
   "source": [
    "# Máscara para seleccionar solamente los valores de tipo str en la variable pw_amount_9089\n",
    "msk = [(type(i)==str) for i in visasH['pw_amount_9089']]\n",
    "\n",
    "# Reemplazo de la coma por un espacio en blanco para los valores tipo str\n",
    "visasH['pw_amount_9089'][msk] = visasH['pw_amount_9089'][msk].str.replace(\",\", \"\")"
   ]
  },
  {
   "cell_type": "code",
   "execution_count": 21,
   "metadata": {},
   "outputs": [
    {
     "data": {
      "text/html": [
       "<div>\n",
       "<style>\n",
       "    .dataframe thead tr:only-child th {\n",
       "        text-align: right;\n",
       "    }\n",
       "\n",
       "    .dataframe thead th {\n",
       "        text-align: left;\n",
       "    }\n",
       "\n",
       "    .dataframe tbody tr th {\n",
       "        vertical-align: top;\n",
       "    }\n",
       "</style>\n",
       "<table border=\"1\" class=\"dataframe\">\n",
       "  <thead>\n",
       "    <tr style=\"text-align: right;\">\n",
       "      <th></th>\n",
       "      <th>pw_amount_9089</th>\n",
       "      <th>pw_unit_of_pay_9089</th>\n",
       "    </tr>\n",
       "  </thead>\n",
       "  <tbody>\n",
       "    <tr>\n",
       "      <th>2</th>\n",
       "      <td>47923.0</td>\n",
       "      <td>Year</td>\n",
       "    </tr>\n",
       "    <tr>\n",
       "      <th>8</th>\n",
       "      <td>44824.0</td>\n",
       "      <td>Year</td>\n",
       "    </tr>\n",
       "    <tr>\n",
       "      <th>11</th>\n",
       "      <td>46176.0</td>\n",
       "      <td>Year</td>\n",
       "    </tr>\n",
       "    <tr>\n",
       "      <th>12</th>\n",
       "      <td>68600.0</td>\n",
       "      <td>Year</td>\n",
       "    </tr>\n",
       "    <tr>\n",
       "      <th>13</th>\n",
       "      <td>74672.0</td>\n",
       "      <td>Year</td>\n",
       "    </tr>\n",
       "    <tr>\n",
       "      <th>16</th>\n",
       "      <td>56100.0</td>\n",
       "      <td>Year</td>\n",
       "    </tr>\n",
       "    <tr>\n",
       "      <th>20</th>\n",
       "      <td>141731.0</td>\n",
       "      <td>Year</td>\n",
       "    </tr>\n",
       "    <tr>\n",
       "      <th>24</th>\n",
       "      <td>89378.0</td>\n",
       "      <td>NaN</td>\n",
       "    </tr>\n",
       "    <tr>\n",
       "      <th>28</th>\n",
       "      <td>38646.0</td>\n",
       "      <td>Year</td>\n",
       "    </tr>\n",
       "    <tr>\n",
       "      <th>32</th>\n",
       "      <td>23340.0</td>\n",
       "      <td>Year</td>\n",
       "    </tr>\n",
       "  </tbody>\n",
       "</table>\n",
       "</div>"
      ],
      "text/plain": [
       "    pw_amount_9089 pw_unit_of_pay_9089\n",
       "2          47923.0                Year\n",
       "8          44824.0                Year\n",
       "11         46176.0                Year\n",
       "12         68600.0                Year\n",
       "13         74672.0                Year\n",
       "16         56100.0                Year\n",
       "20        141731.0                Year\n",
       "24         89378.0                 NaN\n",
       "28         38646.0                Year\n",
       "32         23340.0                Year"
      ]
     },
     "execution_count": 21,
     "metadata": {},
     "output_type": "execute_result"
    }
   ],
   "source": [
    "# Fuente: https://www.kaggle.com/elzawie/us-permanent-visa-applications-v1-1\n",
    "# Reemplazo de la unidad de pago en los valores diferentes al año\n",
    "\n",
    "for unit in visasH.pw_unit_of_pay_9089.unique():\n",
    "    if unit == \"hr\" or unit == \"Hour\":\n",
    "        visasH.loc[visas['pw_unit_of_pay_9089'] == unit, 'pw_amount_9089'] = visasH['pw_amount_9089'].apply(lambda x: float(x) * 8 * 250)\n",
    "        visasH.loc[visas['pw_unit_of_pay_9089'] == unit, 'pw_unit_of_pay_9089'] = visasH['pw_unit_of_pay_9089'].replace(to_replace = unit, value = \"Year\") \n",
    "    elif unit == \"wk\" or unit == \"Week\":\n",
    "        visasH.loc[visas['pw_unit_of_pay_9089'] == unit, 'pw_amount_9089'] = visasH['pw_amount_9089'].apply(lambda x: float(x) * 50)\n",
    "        visasH.loc[visas['pw_unit_of_pay_9089'] == unit, 'pw_unit_of_pay_9089'] = visasH['pw_unit_of_pay_9089'].replace(to_replace = unit, value = \"Year\")\n",
    "    elif unit == \"mth\" or unit == \"Month\":\n",
    "        visasH.loc[visas['pw_unit_of_pay_9089'] == unit, 'pw_amount_9089'] = visasH['pw_amount_9089'].apply(lambda x: float(x) * 12)\n",
    "        visasH.loc[visas['pw_unit_of_pay_9089'] == unit, 'pw_unit_of_pay_9089'] = visasH['pw_unit_of_pay_9089'].replace(to_replace = unit, value = \"Year\")\n",
    "    elif unit == \"bi\" or unit == \"Bi-Weekly\":  \n",
    "        visasH.loc[visas['pw_unit_of_pay_9089'] == unit, 'pw_amount_9089'] = visasH['pw_amount_9089'].apply(lambda x: float(x) * 25)\n",
    "        visasH.loc[visas['pw_unit_of_pay_9089'] == unit, 'pw_unit_of_pay_9089'] = visasH['pw_unit_of_pay_9089'].replace(to_replace = unit, value = \"Year\")\n",
    "    elif unit ==\"yr\":\n",
    "        visasH.loc[visas['pw_unit_of_pay_9089'] == unit ,'pw_unit_of_pay_9089'] = visasH['pw_unit_of_pay_9089'].replace(to_replace = unit, value = \"Year\")\n",
    "    else:\n",
    "        continue\n",
    "\n",
    "# Reemplazo de valores faltantes con la mediana\n",
    "visasH['pw_amount_9089'].fillna(visasH['pw_amount_9089'].median(), inplace=True)\n",
    "\n",
    "# Cambio del formato de string a float\n",
    "visasH['pw_amount_9089'] = visasH.pw_amount_9089.astype(float)\n",
    "\n",
    "# Muestra de los 10 primeros valores\n",
    "visasH[['pw_amount_9089','pw_unit_of_pay_9089']].head(10)"
   ]
  },
  {
   "cell_type": "code",
   "execution_count": 22,
   "metadata": {},
   "outputs": [
    {
     "name": "stdout",
     "output_type": "stream",
     "text": [
      "count      153625.00\n",
      "mean       528856.64\n",
      "std       8343919.15\n",
      "min            11.84\n",
      "25%         74100.00\n",
      "50%         89378.00\n",
      "75%        106912.00\n",
      "max     288038000.00\n",
      "Name: pw_amount_9089, dtype: float64\n"
     ]
    }
   ],
   "source": [
    "# Descripción de la variable 'pw_amount_9089'\n",
    "with pd.option_context('float_format', '{:.2f}'.format): print(visasH.pw_amount_9089.describe())"
   ]
  },
  {
   "cell_type": "markdown",
   "metadata": {},
   "source": [
    "Al realizar la descripción de la variable pw_amount_9089 se observa que todos sus valores son ahora numéricos. Los resultados sugieren que existen valores atípicos, los cuales serán eliminados."
   ]
  },
  {
   "cell_type": "code",
   "execution_count": 23,
   "metadata": {
    "collapsed": true
   },
   "outputs": [],
   "source": [
    "# Eliminación de valores atípicos de la variable 'pw_amount_9089'\n",
    "q1 = visasH['pw_amount_9089'].quantile(.25)\n",
    "q3 = visasH['pw_amount_9089'].quantile(.75)\n",
    "IQR = q3 - q1\n",
    "msk = visasH['pw_amount_9089'].between(q1-2.0*IQR, q3+3.0*IQR, inclusive=True)\n",
    "visasH = visasH[msk]"
   ]
  },
  {
   "cell_type": "markdown",
   "metadata": {},
   "source": [
    "La eliminación de valores atípicos trae consigo una pequeña disminución en el número de observaciones."
   ]
  },
  {
   "cell_type": "code",
   "execution_count": 24,
   "metadata": {},
   "outputs": [
    {
     "data": {
      "text/plain": [
       "(152459, 155)"
      ]
     },
     "execution_count": 24,
     "metadata": {},
     "output_type": "execute_result"
    }
   ],
   "source": [
    "visasH.shape"
   ]
  },
  {
   "cell_type": "code",
   "execution_count": 25,
   "metadata": {},
   "outputs": [
    {
     "name": "stdout",
     "output_type": "stream",
     "text": [
      "count   152459.00\n",
      "mean     91269.81\n",
      "std      28030.70\n",
      "min      15080.00\n",
      "25%      74085.50\n",
      "50%      89378.00\n",
      "75%     106551.50\n",
      "max     205296.00\n",
      "Name: pw_amount_9089, dtype: float64\n"
     ]
    }
   ],
   "source": [
    "with pd.option_context('float_format', '{:.2f}'.format): print(visasH.pw_amount_9089.describe())"
   ]
  },
  {
   "cell_type": "markdown",
   "metadata": {},
   "source": [
    "Se realizó un tratamiento similar a la variable wage_offer_from_9089."
   ]
  },
  {
   "cell_type": "code",
   "execution_count": 26,
   "metadata": {
    "collapsed": true
   },
   "outputs": [],
   "source": [
    "# Máscara para seleccionar solamente los valores de tipo str en la variable wage_offer_from_9089\n",
    "msk2 = [(type(i)==str) for i in visasH['wage_offer_from_9089']]\n",
    "\n",
    "# Reemplazo de la coma por un espacio en blanco para los valores tipo str\n",
    "visasH['wage_offer_from_9089'][msk2] = visasH['wage_offer_from_9089'][msk2].str.replace(\",\", \"\")"
   ]
  },
  {
   "cell_type": "code",
   "execution_count": 27,
   "metadata": {
    "collapsed": true
   },
   "outputs": [],
   "source": [
    "# Reemplazo de la unidad de pago en los valores diferentes al año\n",
    "\n",
    "for unit in visasH.wage_offer_unit_of_pay_9089.unique():\n",
    "    if unit == \"hr\" or unit == \"Hour\":\n",
    "        visasH.loc[visas['wage_offer_unit_of_pay_9089'] == unit, 'wage_offer_from_9089'] = visasH['wage_offer_from_9089'].apply(lambda x: (x) * 8 * 250)\n",
    "        visasH.loc[visas['wage_offer_unit_of_pay_9089'] == unit, 'wage_offer_unit_of_pay_9089'] = visasH['wage_offer_unit_of_pay_9089'].replace(to_replace = unit, value = \"Year\") \n",
    "    elif unit == \"wk\" or unit == \"Week\":\n",
    "        visasH.loc[visas['wage_offer_unit_of_pay_9089'] == unit, 'wage_offer_from_9089'] = visasH['wage_offer_from_9089'].apply(lambda x: (x) * 50)\n",
    "        visasH.loc[visas['wage_offer_unit_of_pay_9089'] == unit, 'wage_offer_unit_of_pay_9089'] = visasH['wage_offer_unit_of_pay_9089'].replace(to_replace = unit, value = \"Year\")\n",
    "    elif unit == \"mth\" or unit == \"Month\":\n",
    "        visasH.loc[visas['wage_offer_unit_of_pay_9089'] == unit, 'wage_offer_from_9089'] = visasH['wage_offer_from_9089'].apply(lambda x: (x) * 12)\n",
    "        visasH.loc[visas['wage_offer_unit_of_pay_9089'] == unit, 'wage_offer_unit_of_pay_9089'] = visasH['wage_offer_unit_of_pay_9089'].replace(to_replace = unit, value = \"Year\")\n",
    "    elif unit == \"bi\" or unit == \"Bi-Weekly\":  \n",
    "        visasH.loc[visas['wage_offer_unit_of_pay_9089'] == unit, 'wage_offer_from_9089'] = visasH['wage_offer_from_9089'].apply(lambda x: (x) * 25)\n",
    "        visasH.loc[visas['wage_offer_unit_of_pay_9089'] == unit, 'wage_offer_unit_of_pay_9089'] = visasH['wage_offer_unit_of_pay_9089'].replace(to_replace = unit, value = \"Year\")\n",
    "    elif unit ==\"yr\":\n",
    "        visasH.loc[visas['wage_offer_unit_of_pay_9089'] == unit ,'wage_offer_unit_of_pay_9089'] = visasH['wage_offer_unit_of_pay_9089'].replace(to_replace = unit, value = \"Year\")\n",
    "    else:\n",
    "        continue   "
   ]
  },
  {
   "cell_type": "markdown",
   "metadata": {},
   "source": [
    "La variable pw_soc_code que corresponde al código ocupacional asociado al trabajo solicitado también fue tratada para eliminar las comas, imputar valores faltantes y convertir sus datos a tipo numérico. "
   ]
  },
  {
   "cell_type": "code",
   "execution_count": 28,
   "metadata": {
    "collapsed": true
   },
   "outputs": [],
   "source": [
    "# Reemplazo de '.' y '-' por espacios en blanco en los valores de 'pw_soc_code'\n",
    "visasH['pw_soc_code'] = visasH['pw_soc_code'].str.replace('.','')\n",
    "visasH['pw_soc_code'] = visasH['pw_soc_code'].str.replace('-','')\n",
    "visasH['pw_soc_code'] = visasH['pw_soc_code'].astype(str).str[0:6]\n",
    "visasH['pw_soc_code'].value_counts()\n",
    "\n",
    "# Reemplazo de los valores \"NaN\" en 'pw_soc_code' por la moda\n",
    "visasH.loc[visasH['pw_soc_code'] == \"nan\",'pw_soc_code'] = visasH['pw_soc_code'].mode()[0]\n",
    "\n",
    "# Reemplazo de los valores \"None\" en 'pw_soc_code' por la moda\n",
    "visasH.loc[visas['pw_soc_code'] == \"None\",'pw_soc_code'] = visasH['pw_soc_code'].mode()[0]\n",
    "\n",
    "# Conversión de los valores a int\n",
    "visasH['pw_soc_code'] = visasH['pw_soc_code'].astype(int)"
   ]
  },
  {
   "cell_type": "markdown",
   "metadata": {},
   "source": [
    "También es necesario imputar valores faltantes en la variable employer_name. A continuación, se crean dos variables: num_applications_EMP que corresponde al número de solicitudes presentadas por cada empleador y acceptance_rate_EMP que representa la proporción entre el número de solicitudes aceptadas y el número de solicitudes totales de cada empleador. Se crearon estas variables debido a que en algunos trabajos analizados en el Estado del Arte señalan que son importantes para la predicción de los resultados de las solicitudes de visa. "
   ]
  },
  {
   "cell_type": "code",
   "execution_count": 29,
   "metadata": {
    "collapsed": true
   },
   "outputs": [],
   "source": [
    "# Reemplazo de valores faltantes en el nombre del empleador por la moda\n",
    "visasH['employer_name'] = visasH['employer_name'].fillna((visasH['employer_name'].mode()[0]))\n",
    "\n",
    "# Convertir nombres a mayúscula\n",
    "visasH['employer_name'] = visasH['employer_name'].astype(str).str.upper()"
   ]
  },
  {
   "cell_type": "code",
   "execution_count": 30,
   "metadata": {
    "collapsed": true
   },
   "outputs": [],
   "source": [
    "# Creación de la variable 'num_applications_EMP' (número de solicitudes presentadas por cada empleador)\n",
    "num_apps = visasH.employer_name.value_counts()\n",
    "num_applications = []\n",
    "for i in range(visasH.shape[0]):\n",
    "    num_applications.append(num_apps[visasH['employer_name'].iloc[i]])\n",
    "\n",
    "visasH['num_applications_EMP'] = num_applications"
   ]
  },
  {
   "cell_type": "code",
   "execution_count": 31,
   "metadata": {
    "collapsed": true
   },
   "outputs": [],
   "source": [
    "# Creación de la variable 'acceptance_rate_EMP' (tasa de éxitos de las solicitudes presentadas por cada empleador)\n",
    "num_exitos = (visasH[visasH.case_status=='Certified'])['employer_name'].value_counts()\n",
    "tasa_exitos = num_exitos/num_apps\n",
    "acceptance_rate = []\n",
    "for i in range(visasH.shape[0]):\n",
    "    acceptance_rate.append(tasa_exitos[visasH['employer_name'].iloc[i]])\n",
    "\n",
    "visasH['acceptance_rate_EMP'] = acceptance_rate\n",
    "\n",
    "# Imputación de valores faltantes con la mediana\n",
    "visasH['acceptance_rate_EMP'].fillna(visasH['acceptance_rate_EMP'].median(), inplace=True)"
   ]
  },
  {
   "cell_type": "markdown",
   "metadata": {},
   "source": [
    "También se crearon las variables: num_applications_SOC que corresponde al número de solicitudes presentadas por cada sector ocupacional y acceptance_rate_SOC que representa la proporción entre el número de solicitudes aceptadas y el número de solicitudes totales de cada sector ocupacional."
   ]
  },
  {
   "cell_type": "code",
   "execution_count": 32,
   "metadata": {
    "collapsed": true
   },
   "outputs": [],
   "source": [
    "# Creación de la variable 'num_applications_SOC' (número de solicitudes presentadas por cada sector ocupacional)\n",
    "num_apps = visasH.pw_soc_code.value_counts()\n",
    "num_applications = []\n",
    "for i in range(visasH.shape[0]):\n",
    "    num_applications.append(num_apps[visasH['pw_soc_code'].iloc[i]])\n",
    "\n",
    "visasH['num_applications_SOC'] = num_applications"
   ]
  },
  {
   "cell_type": "code",
   "execution_count": 33,
   "metadata": {
    "collapsed": true
   },
   "outputs": [],
   "source": [
    "# Creación de la variable 'acceptance_rate_SOC' (tasa de éxitos de las solicitudes presentadas por cada sector ocupacional)\n",
    "num_exitos = (visasH[visasH.case_status=='Certified'])['pw_soc_code'].value_counts()\n",
    "tasa_exitos = num_exitos/num_apps\n",
    "acceptance_rate = []\n",
    "for i in range(visasH.shape[0]):\n",
    "    acceptance_rate.append(tasa_exitos[visasH['pw_soc_code'].iloc[i]])\n",
    "\n",
    "visasH['acceptance_rate_SOC'] = acceptance_rate\n",
    "\n",
    "# Imputación de valores faltantes con la mediana\n",
    "visasH['acceptance_rate_SOC'].fillna(visasH['acceptance_rate_SOC'].median(), inplace=True)"
   ]
  },
  {
   "cell_type": "markdown",
   "metadata": {},
   "source": [
    "Se decidió eliminar aquellas variables que poseen más de un 50% de valores nulos, al igual que aquellas variables categóricas que solamente poseen una categoría. La nueva lista de variables categóricas se muestra a continuación."
   ]
  },
  {
   "cell_type": "code",
   "execution_count": 34,
   "metadata": {
    "collapsed": true
   },
   "outputs": [],
   "source": [
    "# Eliminación de variables con más del 50% de casos nulos\n",
    "porcentaje_nulo = visasH.isnull().sum() / len(visasH)\n",
    "missing_features = porcentaje_nulo[porcentaje_nulo > 0.50].index\n",
    "visasH.drop(missing_features, axis=1, inplace=True)"
   ]
  },
  {
   "cell_type": "code",
   "execution_count": 35,
   "metadata": {
    "collapsed": true
   },
   "outputs": [],
   "source": [
    "# Cuenta de valores únicos en cada variable\n",
    "unicos_var = visasH.T.apply(lambda x: x.nunique(), axis=1)"
   ]
  },
  {
   "cell_type": "code",
   "execution_count": 36,
   "metadata": {
    "collapsed": true
   },
   "outputs": [],
   "source": [
    "# Eliminación de variables que tengan un sólo valor único\n",
    "solo_var = []\n",
    "for i in range(visasH.shape[1]):\n",
    "    if unicos_var[visasH.columns[i]] == 1: \n",
    "        solo_var.append(visasH.columns[i])\n",
    "\n",
    "visasH.drop(visasH[solo_var], axis=1, inplace=True)"
   ]
  },
  {
   "cell_type": "code",
   "execution_count": 37,
   "metadata": {},
   "outputs": [
    {
     "data": {
      "text/plain": [
       "['job_info_foreign_lang_req',\n",
       " 'pw_job_title_9089',\n",
       " 'recr_info_professional_occ',\n",
       " 'foreign_worker_info_inst',\n",
       " 'case_received_date',\n",
       " 'ri_posted_notice_at_worksite',\n",
       " 'pw_source_name_9089',\n",
       " 'pw_determ_date',\n",
       " 'foreign_worker_info_state',\n",
       " 'recr_info_second_ad_start',\n",
       " 'case_number',\n",
       " 'employer_address_2',\n",
       " 'ri_2nd_ad_newspaper_or_journal',\n",
       " 'recr_info_swa_job_order_end',\n",
       " 'preparer_info_emp_completed',\n",
       " 'employer_name',\n",
       " 'employer_city',\n",
       " 'agent_firm_name',\n",
       " 'ri_1st_ad_newspaper_name',\n",
       " 'job_info_foreign_ed',\n",
       " 'job_info_training',\n",
       " 'job_info_work_state',\n",
       " 'foreign_worker_info_major',\n",
       " 'ri_layoff_in_past_six_months',\n",
       " 'ri_2nd_ad_newspaper_name',\n",
       " 'recr_info_coll_univ_teacher',\n",
       " 'pw_expire_date',\n",
       " 'job_info_combo_occupation',\n",
       " 'job_info_job_req_normal',\n",
       " 'employer_postal_code',\n",
       " 'employer_country',\n",
       " 'employer_decl_info_title',\n",
       " 'foreign_worker_info_education',\n",
       " 'wage_offer_from_9089',\n",
       " 'job_info_alt_combo_ed_exp',\n",
       " 'ri_job_search_website_to',\n",
       " 'country_of_citizenship',\n",
       " 'decision_date',\n",
       " 'job_info_job_title',\n",
       " 'ji_live_in_domestic_service',\n",
       " 'pw_track_num',\n",
       " 'employer_state',\n",
       " 'job_info_experience',\n",
       " 'pw_level_9089',\n",
       " 'recr_info_employer_rec_payment',\n",
       " 'agent_city',\n",
       " 'recr_info_first_ad_start',\n",
       " 'job_info_work_city',\n",
       " 'ri_job_search_website_from',\n",
       " 'job_info_major',\n",
       " 'case_status',\n",
       " 'pw_soc_title',\n",
       " 'recr_info_sunday_newspaper',\n",
       " 'job_info_education',\n",
       " 'job_info_alt_field',\n",
       " 'foreign_worker_info_city',\n",
       " 'employer_address_1',\n",
       " 'agent_state',\n",
       " 'employer_phone',\n",
       " 'preparer_info_title',\n",
       " 'job_info_work_postal_code',\n",
       " 'recr_info_swa_job_order_start']"
      ]
     },
     "execution_count": 37,
     "metadata": {},
     "output_type": "execute_result"
    }
   ],
   "source": [
    "# Lista de variables categóricas\n",
    "all_columns = visasH.columns\n",
    "num_columns = visasH._get_numeric_data().columns\n",
    "cat_columns = list(set(all_columns) - set(num_columns))\n",
    "cat_columns"
   ]
  },
  {
   "cell_type": "markdown",
   "metadata": {},
   "source": [
    "Otra decisión adoptada fue la eliminación de aquellas variables categóricas que poseen demasiadas categorías (su número excede a la cantidad de códigos ocupacionales). Estas variables como es el caso de la dirección del empleador seguramente no aportarán información relevante a la tarea de clasificación y tampoco resulta útil asignarle código a cada una de las categorías. "
   ]
  },
  {
   "cell_type": "code",
   "execution_count": 38,
   "metadata": {
    "collapsed": true
   },
   "outputs": [],
   "source": [
    "# Número de valores únicos en las variables categóricas\n",
    "unicos_cat = visasH[cat_columns].T.apply(lambda x: x.nunique(), axis=1)"
   ]
  },
  {
   "cell_type": "code",
   "execution_count": 39,
   "metadata": {
    "collapsed": true
   },
   "outputs": [],
   "source": [
    "# Eliminación de variables cuyo número de categorías es mayor al número de códigos ocupacionales\n",
    "lim = len(visasH['pw_soc_code'].unique())\n",
    "muchos_var = []\n",
    "for var in unicos_cat.index:\n",
    "    if unicos_cat[var] > lim: \n",
    "        muchos_var.append(var)\n",
    "\n",
    "visasH.drop(visasH[muchos_var], axis=1, inplace=True)"
   ]
  },
  {
   "cell_type": "code",
   "execution_count": 40,
   "metadata": {
    "collapsed": true
   },
   "outputs": [],
   "source": [
    "# Nueva lista de variables categóricas\n",
    "all_columns = visasH.columns\n",
    "num_columns = visasH._get_numeric_data().columns\n",
    "cat_columns = list(set(all_columns) - set(num_columns))"
   ]
  },
  {
   "cell_type": "markdown",
   "metadata": {},
   "source": [
    "Luego de imputar los valores faltantes de las variables numéricas con la mediana y de las variables categóricas con la moda se verifica que ya no existen valores nulos en el conjunto de datos. "
   ]
  },
  {
   "cell_type": "code",
   "execution_count": 41,
   "metadata": {
    "collapsed": true
   },
   "outputs": [],
   "source": [
    "# Imputación de valores faltantes en variables numéricas con la mediana\n",
    "for i in range(len(num_columns)):\n",
    "    visasH[num_columns[i]].fillna(visasH[num_columns[i]].median(), inplace=True)"
   ]
  },
  {
   "cell_type": "code",
   "execution_count": 42,
   "metadata": {
    "collapsed": true
   },
   "outputs": [],
   "source": [
    "# Imputación de valores faltantes en variables categóricas con la moda\n",
    "for i in range(len(cat_columns)):\n",
    "    visasH[cat_columns[i]].fillna(visasH[cat_columns[i]].value_counts().index[0], inplace=True)"
   ]
  },
  {
   "cell_type": "code",
   "execution_count": 43,
   "metadata": {},
   "outputs": [
    {
     "data": {
      "text/plain": [
       "agent_state                       0\n",
       "case_status                       0\n",
       "country_of_citizenship            0\n",
       "employer_country                  0\n",
       "employer_num_employees            0\n",
       "employer_state                    0\n",
       "employer_yr_estab                 0\n",
       "foreign_worker_info_education     0\n",
       "foreign_worker_info_state         0\n",
       "ji_live_in_domestic_service       0\n",
       "job_info_alt_combo_ed_exp         0\n",
       "job_info_alt_field                0\n",
       "job_info_combo_occupation         0\n",
       "job_info_education                0\n",
       "job_info_experience               0\n",
       "job_info_foreign_ed               0\n",
       "job_info_foreign_lang_req         0\n",
       "job_info_job_req_normal           0\n",
       "job_info_training                 0\n",
       "job_info_work_state               0\n",
       "preparer_info_emp_completed       0\n",
       "pw_amount_9089                    0\n",
       "pw_level_9089                     0\n",
       "pw_soc_code                       0\n",
       "pw_source_name_9089               0\n",
       "recr_info_coll_univ_teacher       0\n",
       "recr_info_employer_rec_payment    0\n",
       "recr_info_professional_occ        0\n",
       "recr_info_sunday_newspaper        0\n",
       "ri_2nd_ad_newspaper_or_journal    0\n",
       "ri_layoff_in_past_six_months      0\n",
       "ri_posted_notice_at_worksite      0\n",
       "year                              0\n",
       "num_applications_EMP              0\n",
       "acceptance_rate_EMP               0\n",
       "num_applications_SOC              0\n",
       "acceptance_rate_SOC               0\n",
       "dtype: int64"
      ]
     },
     "execution_count": 43,
     "metadata": {},
     "output_type": "execute_result"
    }
   ],
   "source": [
    "visasH.isnull().sum()"
   ]
  },
  {
   "cell_type": "markdown",
   "metadata": {},
   "source": [
    "En el caso de las variables cuyas categorías corresponden a los nombres de los estados, se aprecia que algunas veces se representan los nombres de forma completa o en ocasiones se usa la abreviatura. Se optó por convertir todos los nombres completos a la abreviatura respectiva. "
   ]
  },
  {
   "cell_type": "code",
   "execution_count": 44,
   "metadata": {},
   "outputs": [
    {
     "data": {
      "text/plain": [
       "array(['VA', 'DE', 'NY', 'NJ', 'GA', 'TX', 'KY', 'MS', 'MA', 'CA', 'NC',\n",
       "       'MO', 'MD', 'OH', 'IL', 'WA', 'AL', 'FL', 'OK', 'DC', 'NV', 'CT',\n",
       "       'MN', 'IA', 'PA', 'MI', 'NE', 'KS', 'TN', 'PR', 'OR', 'AR', 'CO',\n",
       "       'WY', 'VI', 'LA', 'AZ', 'ND', 'UT', 'NH', 'RI', 'WI', 'IN', 'ID',\n",
       "       'VT', 'ME', 'HI', 'GU', 'SC', 'NM', 'WV', 'SD', 'AK', 'MT',\n",
       "       'TEXAS', 'CALIFORNIA', 'WASHINGTON', 'ARIZONA', 'MASSACHUSETTS',\n",
       "       'MICHIGAN', 'PENNSYLVANIA', 'VIRGINIA', 'NEW YORK', 'MARYLAND',\n",
       "       'MISSOURI', 'INDIANA', 'ILLINOIS', 'UTAH', 'NEW JERSEY',\n",
       "       'DELAWARE', 'LOUISIANA', 'OHIO', 'OKLAHOMA', 'FLORIDA', 'GEORGIA',\n",
       "       'KANSAS', 'WISCONSIN', 'NEBRASKA', 'DISTRICT OF COLUMBIA',\n",
       "       'NEW MEXICO', 'TENNESSEE', 'RHODE ISLAND', 'VERMONT', 'COLORADO',\n",
       "       'CONNECTICUT', 'NORTH CAROLINA', 'KENTUCKY', 'MINNESOTA',\n",
       "       'ARKANSAS', 'WEST VIRGINIA', 'ALABAMA', 'NEW HAMPSHIRE', 'OREGON',\n",
       "       'MISSISSIPPI', 'MAINE', 'IOWA', 'PUERTO RICO', 'HAWAII', 'ALASKA',\n",
       "       'NORTH DAKOTA', 'NEVADA', 'IDAHO', 'SOUTH CAROLINA',\n",
       "       'SOUTH DAKOTA', 'WYOMING', 'MONTANA', 'VIRGIN ISLANDS', 'GUAM',\n",
       "       'NORTHERN MARIANA ISLANDS', 'BRITISH COLUMBIA', 'MP', 'BC'],\n",
       "      dtype=object)"
      ]
     },
     "execution_count": 44,
     "metadata": {},
     "output_type": "execute_result"
    }
   ],
   "source": [
    "visasH['employer_state'].unique()"
   ]
  },
  {
   "cell_type": "code",
   "execution_count": 45,
   "metadata": {
    "collapsed": true
   },
   "outputs": [],
   "source": [
    "# Fuente: https://www.kaggle.com/elzawie/us-permanent-visa-applications-v1-1\n",
    "# Correspondencia entre el nombre del estado y la abreviatura mediante un diccionario\n",
    "state_abbrevs = {\n",
    "    'Alabama': 'AL',\n",
    "    'Alaska': 'AK',\n",
    "    'Arizona': 'AZ',\n",
    "    'Arkansas': 'AR',\n",
    "    'California': 'CA',\n",
    "    'Colorado': 'CO',\n",
    "    'Connecticut': 'CT',\n",
    "    'Delaware': 'DE',\n",
    "    'Florida': 'FL',\n",
    "    'Georgia': 'GA',\n",
    "    'Guam': 'GU',\n",
    "    'Hawaii': 'HI',\n",
    "    'Idaho': 'ID',\n",
    "    'Illinois': 'IL',\n",
    "    'Indiana': 'IN',\n",
    "    'Iowa': 'IA',\n",
    "    'Kansas': 'KS',\n",
    "    'Kentucky': 'KY',\n",
    "    'Louisiana': 'LA',\n",
    "    'Maine': 'ME',\n",
    "    'Maryland': 'MD',\n",
    "    'Massachusetts': 'MA',\n",
    "    'Michigan': 'MI',\n",
    "    'Minnesota': 'MN',\n",
    "    'Mississippi': 'MS',\n",
    "    'Missouri': 'MO',\n",
    "    'Montana': 'MT',\n",
    "    'Nebraska': 'NE',\n",
    "    'Nevada': 'NV',\n",
    "    'New Hampshire': 'NH',\n",
    "    'New Jersey': 'NJ',\n",
    "    'New Mexico': 'NM',\n",
    "    'New York': 'NY',\n",
    "    'North Carolina': 'NC',\n",
    "    'North Dakota': 'ND',\n",
    "    'Ohio': 'OH',\n",
    "    'Oklahoma': 'OK',\n",
    "    'Oregon': 'OR',\n",
    "    'Pennsylvania': 'PA',\n",
    "    'Rhode Island': 'RI',\n",
    "    'South Carolina': 'SC',\n",
    "    'South Dakota': 'SD',\n",
    "    'Tennessee': 'TN',\n",
    "    'Texas': 'TX',\n",
    "    'Utah': 'UT',\n",
    "    'Vermont': 'VT',\n",
    "    'Virginia': 'VA',\n",
    "    'Washington': 'WA',\n",
    "    'West Virginia': 'WV',\n",
    "    'Wisconsin': 'WI',\n",
    "    'Wyoming': 'WY',\n",
    "    'Northern Mariana Islands':'MP', \n",
    "    'Palau': 'PW', \n",
    "    'Puerto Rico': 'PR', \n",
    "    'Virgin Islands': 'VI', \n",
    "    'District of Columbia': 'DC',\n",
    "    'British Columbia': 'BC',\n",
    "}\n",
    "\n",
    "# Conversión de las claves del diccionario a letras mayúsculas\n",
    "us_state_abbrev = {k.upper(): v for k, v in state_abbrevs.items()}\n",
    "vars_state = ['agent_state','job_info_work_state','foreign_worker_info_state','employer_state']\n",
    "for var in vars_state:\n",
    "    visasH[var].replace(us_state_abbrev, inplace=True)\n",
    "    visasH[var] = visasH[var].astype(str)"
   ]
  },
  {
   "cell_type": "code",
   "execution_count": 46,
   "metadata": {},
   "outputs": [
    {
     "data": {
      "text/plain": [
       "array(['VA', 'DE', 'NY', 'NJ', 'GA', 'TX', 'KY', 'MS', 'MA', 'CA', 'NC',\n",
       "       'MO', 'MD', 'OH', 'IL', 'WA', 'AL', 'FL', 'OK', 'DC', 'NV', 'CT',\n",
       "       'MN', 'IA', 'PA', 'MI', 'NE', 'KS', 'TN', 'PR', 'OR', 'AR', 'CO',\n",
       "       'WY', 'VI', 'LA', 'AZ', 'ND', 'UT', 'NH', 'RI', 'WI', 'IN', 'ID',\n",
       "       'VT', 'ME', 'HI', 'GU', 'SC', 'NM', 'WV', 'SD', 'AK', 'MT', 'MP',\n",
       "       'BC'], dtype=object)"
      ]
     },
     "execution_count": 46,
     "metadata": {},
     "output_type": "execute_result"
    }
   ],
   "source": [
    "visasH['employer_state'].unique()"
   ]
  },
  {
   "cell_type": "markdown",
   "metadata": {},
   "source": [
    "Las categorías de todas las variables categóricas excepto case_status (variable a predecir) se codifican asignando un número entero mayor o igual a 1. "
   ]
  },
  {
   "cell_type": "code",
   "execution_count": 47,
   "metadata": {},
   "outputs": [
    {
     "data": {
      "text/plain": [
       "['job_info_job_req_normal',\n",
       " 'employer_country',\n",
       " 'job_info_foreign_lang_req',\n",
       " 'recr_info_professional_occ',\n",
       " 'foreign_worker_info_education',\n",
       " 'ri_posted_notice_at_worksite',\n",
       " 'job_info_alt_combo_ed_exp',\n",
       " 'country_of_citizenship',\n",
       " 'pw_source_name_9089',\n",
       " 'ji_live_in_domestic_service',\n",
       " 'employer_state',\n",
       " 'foreign_worker_info_state',\n",
       " 'job_info_experience',\n",
       " 'pw_level_9089',\n",
       " 'recr_info_employer_rec_payment',\n",
       " 'ri_2nd_ad_newspaper_or_journal',\n",
       " 'preparer_info_emp_completed',\n",
       " 'case_status',\n",
       " 'recr_info_sunday_newspaper',\n",
       " 'job_info_education',\n",
       " 'job_info_alt_field',\n",
       " 'job_info_foreign_ed',\n",
       " 'job_info_training',\n",
       " 'job_info_work_state',\n",
       " 'ri_layoff_in_past_six_months',\n",
       " 'agent_state',\n",
       " 'recr_info_coll_univ_teacher',\n",
       " 'job_info_combo_occupation']"
      ]
     },
     "execution_count": 47,
     "metadata": {},
     "output_type": "execute_result"
    }
   ],
   "source": [
    "cat_columns"
   ]
  },
  {
   "cell_type": "code",
   "execution_count": 48,
   "metadata": {
    "collapsed": true
   },
   "outputs": [],
   "source": [
    "cat_columns.remove('case_status')"
   ]
  },
  {
   "cell_type": "code",
   "execution_count": 49,
   "metadata": {
    "collapsed": true
   },
   "outputs": [],
   "source": [
    "# Codificación de las variables categóricas\n",
    "cat_dict = dict()\n",
    "for var in cat_columns:\n",
    "    visasH[var] = visasH[var].astype('category')\n",
    "    cat_dict[var] = {i+1:c for i,c in enumerate(visasH[var].cat.categories)} # list comprehension\n",
    "    visasH[var] = visasH[var].cat.codes+1"
   ]
  },
  {
   "cell_type": "markdown",
   "metadata": {},
   "source": [
    "En el caso de las variables numéricas cuyos valores no están comprendidos entre 0 y 1 se utilizó el escalamiento Min-Max para su normalización."
   ]
  },
  {
   "cell_type": "code",
   "execution_count": 50,
   "metadata": {
    "collapsed": true
   },
   "outputs": [],
   "source": [
    "# Creación de lista de variables numéricas no-escaladas\n",
    "num_columns_no_scale = list(set(num_columns))\n",
    "num_columns_no_scale.remove('acceptance_rate_EMP')\n",
    "num_columns_no_scale.remove('acceptance_rate_SOC')"
   ]
  },
  {
   "cell_type": "code",
   "execution_count": 51,
   "metadata": {},
   "outputs": [
    {
     "data": {
      "text/plain": [
       "['pw_amount_9089',\n",
       " 'num_applications_SOC',\n",
       " 'employer_num_employees',\n",
       " 'employer_yr_estab',\n",
       " 'num_applications_EMP',\n",
       " 'year',\n",
       " 'pw_soc_code']"
      ]
     },
     "execution_count": 51,
     "metadata": {},
     "output_type": "execute_result"
    }
   ],
   "source": [
    "num_columns_no_scale"
   ]
  },
  {
   "cell_type": "code",
   "execution_count": 52,
   "metadata": {
    "collapsed": true
   },
   "outputs": [],
   "source": [
    "# Escalamiento Min-Max de variables numéricas\n",
    "from sklearn import preprocessing\n",
    "scaler = preprocessing.MinMaxScaler()\n",
    "visasH[num_columns_no_scale] = scaler.fit_transform(visasH[num_columns_no_scale])"
   ]
  },
  {
   "cell_type": "markdown",
   "metadata": {},
   "source": [
    "Se crea a continuación una lista que contiene la lista de atributos, se asigna el nombre target a la variable a predecir y se codifica ésta asignando el valor 1 a los casos de visas aceptadas y -1 a los casos de visas denegadas.  "
   ]
  },
  {
   "cell_type": "code",
   "execution_count": 53,
   "metadata": {
    "collapsed": true
   },
   "outputs": [],
   "source": [
    "feat_columns = visasH.columns\n",
    "feat_columns = list(set(feat_columns))\n",
    "feat_columns.remove('case_status')"
   ]
  },
  {
   "cell_type": "code",
   "execution_count": 54,
   "metadata": {},
   "outputs": [
    {
     "name": "stdout",
     "output_type": "stream",
     "text": [
      " 1    138329\n",
      "-1     14130\n",
      "Name: target, dtype: int64\n"
     ]
    }
   ],
   "source": [
    "# Creación de la variable target y codificación de la variable a predecir\n",
    "visasH['target'] = 2 * (visasH['case_status'] == 'Certified') - 1 \n",
    "print(visasH['target'].value_counts())"
   ]
  },
  {
   "cell_type": "markdown",
   "metadata": {},
   "source": [
    "En la vista preliminar del conjunto de datos se aprecia que las variables categóricas han sido codificadas satisfactoriamente y que la variable target se añadió al conjunto de datos."
   ]
  },
  {
   "cell_type": "code",
   "execution_count": 55,
   "metadata": {},
   "outputs": [
    {
     "data": {
      "text/html": [
       "<div>\n",
       "<style>\n",
       "    .dataframe thead tr:only-child th {\n",
       "        text-align: right;\n",
       "    }\n",
       "\n",
       "    .dataframe thead th {\n",
       "        text-align: left;\n",
       "    }\n",
       "\n",
       "    .dataframe tbody tr th {\n",
       "        vertical-align: top;\n",
       "    }\n",
       "</style>\n",
       "<table border=\"1\" class=\"dataframe\">\n",
       "  <thead>\n",
       "    <tr style=\"text-align: right;\">\n",
       "      <th></th>\n",
       "      <th>agent_state</th>\n",
       "      <th>case_status</th>\n",
       "      <th>country_of_citizenship</th>\n",
       "      <th>employer_country</th>\n",
       "      <th>employer_num_employees</th>\n",
       "      <th>employer_state</th>\n",
       "      <th>employer_yr_estab</th>\n",
       "      <th>foreign_worker_info_education</th>\n",
       "      <th>foreign_worker_info_state</th>\n",
       "      <th>ji_live_in_domestic_service</th>\n",
       "      <th>...</th>\n",
       "      <th>recr_info_sunday_newspaper</th>\n",
       "      <th>ri_2nd_ad_newspaper_or_journal</th>\n",
       "      <th>ri_layoff_in_past_six_months</th>\n",
       "      <th>ri_posted_notice_at_worksite</th>\n",
       "      <th>year</th>\n",
       "      <th>num_applications_EMP</th>\n",
       "      <th>acceptance_rate_EMP</th>\n",
       "      <th>num_applications_SOC</th>\n",
       "      <th>acceptance_rate_SOC</th>\n",
       "      <th>target</th>\n",
       "    </tr>\n",
       "  </thead>\n",
       "  <tbody>\n",
       "    <tr>\n",
       "      <th>2</th>\n",
       "      <td>5</td>\n",
       "      <td>Certified</td>\n",
       "      <td>71</td>\n",
       "      <td>4</td>\n",
       "      <td>0.000113</td>\n",
       "      <td>50</td>\n",
       "      <td>0.99005</td>\n",
       "      <td>5</td>\n",
       "      <td>5</td>\n",
       "      <td>1</td>\n",
       "      <td>...</td>\n",
       "      <td>2</td>\n",
       "      <td>2</td>\n",
       "      <td>1</td>\n",
       "      <td>3</td>\n",
       "      <td>0.0</td>\n",
       "      <td>0.000000</td>\n",
       "      <td>1.000000</td>\n",
       "      <td>0.016990</td>\n",
       "      <td>0.874862</td>\n",
       "      <td>1</td>\n",
       "    </tr>\n",
       "    <tr>\n",
       "      <th>8</th>\n",
       "      <td>5</td>\n",
       "      <td>Certified</td>\n",
       "      <td>71</td>\n",
       "      <td>4</td>\n",
       "      <td>0.000113</td>\n",
       "      <td>10</td>\n",
       "      <td>0.99005</td>\n",
       "      <td>5</td>\n",
       "      <td>5</td>\n",
       "      <td>1</td>\n",
       "      <td>...</td>\n",
       "      <td>2</td>\n",
       "      <td>2</td>\n",
       "      <td>1</td>\n",
       "      <td>3</td>\n",
       "      <td>0.2</td>\n",
       "      <td>0.000191</td>\n",
       "      <td>1.000000</td>\n",
       "      <td>0.033998</td>\n",
       "      <td>0.563677</td>\n",
       "      <td>1</td>\n",
       "    </tr>\n",
       "    <tr>\n",
       "      <th>11</th>\n",
       "      <td>5</td>\n",
       "      <td>Certified</td>\n",
       "      <td>71</td>\n",
       "      <td>4</td>\n",
       "      <td>0.000113</td>\n",
       "      <td>38</td>\n",
       "      <td>0.99005</td>\n",
       "      <td>5</td>\n",
       "      <td>5</td>\n",
       "      <td>1</td>\n",
       "      <td>...</td>\n",
       "      <td>2</td>\n",
       "      <td>2</td>\n",
       "      <td>1</td>\n",
       "      <td>3</td>\n",
       "      <td>0.2</td>\n",
       "      <td>0.000000</td>\n",
       "      <td>1.000000</td>\n",
       "      <td>0.002938</td>\n",
       "      <td>0.878981</td>\n",
       "      <td>1</td>\n",
       "    </tr>\n",
       "    <tr>\n",
       "      <th>12</th>\n",
       "      <td>5</td>\n",
       "      <td>Certified</td>\n",
       "      <td>71</td>\n",
       "      <td>4</td>\n",
       "      <td>0.000113</td>\n",
       "      <td>35</td>\n",
       "      <td>0.99005</td>\n",
       "      <td>5</td>\n",
       "      <td>5</td>\n",
       "      <td>1</td>\n",
       "      <td>...</td>\n",
       "      <td>2</td>\n",
       "      <td>2</td>\n",
       "      <td>1</td>\n",
       "      <td>3</td>\n",
       "      <td>0.2</td>\n",
       "      <td>0.000000</td>\n",
       "      <td>1.000000</td>\n",
       "      <td>0.000735</td>\n",
       "      <td>0.825000</td>\n",
       "      <td>1</td>\n",
       "    </tr>\n",
       "    <tr>\n",
       "      <th>13</th>\n",
       "      <td>5</td>\n",
       "      <td>Certified</td>\n",
       "      <td>71</td>\n",
       "      <td>4</td>\n",
       "      <td>0.000113</td>\n",
       "      <td>12</td>\n",
       "      <td>0.99005</td>\n",
       "      <td>5</td>\n",
       "      <td>5</td>\n",
       "      <td>1</td>\n",
       "      <td>...</td>\n",
       "      <td>2</td>\n",
       "      <td>2</td>\n",
       "      <td>1</td>\n",
       "      <td>3</td>\n",
       "      <td>0.0</td>\n",
       "      <td>0.000572</td>\n",
       "      <td>1.000000</td>\n",
       "      <td>0.001205</td>\n",
       "      <td>0.769231</td>\n",
       "      <td>1</td>\n",
       "    </tr>\n",
       "    <tr>\n",
       "      <th>16</th>\n",
       "      <td>5</td>\n",
       "      <td>Certified</td>\n",
       "      <td>71</td>\n",
       "      <td>4</td>\n",
       "      <td>0.000113</td>\n",
       "      <td>35</td>\n",
       "      <td>0.99005</td>\n",
       "      <td>5</td>\n",
       "      <td>5</td>\n",
       "      <td>1</td>\n",
       "      <td>...</td>\n",
       "      <td>2</td>\n",
       "      <td>2</td>\n",
       "      <td>1</td>\n",
       "      <td>3</td>\n",
       "      <td>0.0</td>\n",
       "      <td>0.051649</td>\n",
       "      <td>0.779412</td>\n",
       "      <td>0.033998</td>\n",
       "      <td>0.563677</td>\n",
       "      <td>1</td>\n",
       "    </tr>\n",
       "    <tr>\n",
       "      <th>20</th>\n",
       "      <td>5</td>\n",
       "      <td>Certified</td>\n",
       "      <td>71</td>\n",
       "      <td>4</td>\n",
       "      <td>0.000113</td>\n",
       "      <td>48</td>\n",
       "      <td>0.99005</td>\n",
       "      <td>5</td>\n",
       "      <td>5</td>\n",
       "      <td>1</td>\n",
       "      <td>...</td>\n",
       "      <td>2</td>\n",
       "      <td>2</td>\n",
       "      <td>1</td>\n",
       "      <td>3</td>\n",
       "      <td>0.0</td>\n",
       "      <td>0.000191</td>\n",
       "      <td>1.000000</td>\n",
       "      <td>0.014767</td>\n",
       "      <td>0.900637</td>\n",
       "      <td>1</td>\n",
       "    </tr>\n",
       "    <tr>\n",
       "      <th>24</th>\n",
       "      <td>5</td>\n",
       "      <td>Denied</td>\n",
       "      <td>71</td>\n",
       "      <td>4</td>\n",
       "      <td>0.000113</td>\n",
       "      <td>20</td>\n",
       "      <td>0.99005</td>\n",
       "      <td>5</td>\n",
       "      <td>5</td>\n",
       "      <td>1</td>\n",
       "      <td>...</td>\n",
       "      <td>2</td>\n",
       "      <td>2</td>\n",
       "      <td>1</td>\n",
       "      <td>3</td>\n",
       "      <td>0.2</td>\n",
       "      <td>0.000000</td>\n",
       "      <td>0.980392</td>\n",
       "      <td>0.002693</td>\n",
       "      <td>0.888889</td>\n",
       "      <td>-1</td>\n",
       "    </tr>\n",
       "    <tr>\n",
       "      <th>28</th>\n",
       "      <td>5</td>\n",
       "      <td>Certified</td>\n",
       "      <td>71</td>\n",
       "      <td>4</td>\n",
       "      <td>0.000113</td>\n",
       "      <td>38</td>\n",
       "      <td>0.99005</td>\n",
       "      <td>5</td>\n",
       "      <td>5</td>\n",
       "      <td>1</td>\n",
       "      <td>...</td>\n",
       "      <td>2</td>\n",
       "      <td>2</td>\n",
       "      <td>1</td>\n",
       "      <td>3</td>\n",
       "      <td>0.2</td>\n",
       "      <td>0.034305</td>\n",
       "      <td>0.955801</td>\n",
       "      <td>0.013147</td>\n",
       "      <td>0.874106</td>\n",
       "      <td>1</td>\n",
       "    </tr>\n",
       "    <tr>\n",
       "      <th>32</th>\n",
       "      <td>5</td>\n",
       "      <td>Certified</td>\n",
       "      <td>71</td>\n",
       "      <td>4</td>\n",
       "      <td>0.000113</td>\n",
       "      <td>29</td>\n",
       "      <td>0.99005</td>\n",
       "      <td>5</td>\n",
       "      <td>5</td>\n",
       "      <td>1</td>\n",
       "      <td>...</td>\n",
       "      <td>2</td>\n",
       "      <td>2</td>\n",
       "      <td>1</td>\n",
       "      <td>3</td>\n",
       "      <td>0.0</td>\n",
       "      <td>0.000000</td>\n",
       "      <td>1.000000</td>\n",
       "      <td>0.012940</td>\n",
       "      <td>0.604651</td>\n",
       "      <td>1</td>\n",
       "    </tr>\n",
       "  </tbody>\n",
       "</table>\n",
       "<p>10 rows × 38 columns</p>\n",
       "</div>"
      ],
      "text/plain": [
       "    agent_state case_status  country_of_citizenship  employer_country  \\\n",
       "2             5   Certified                      71                 4   \n",
       "8             5   Certified                      71                 4   \n",
       "11            5   Certified                      71                 4   \n",
       "12            5   Certified                      71                 4   \n",
       "13            5   Certified                      71                 4   \n",
       "16            5   Certified                      71                 4   \n",
       "20            5   Certified                      71                 4   \n",
       "24            5      Denied                      71                 4   \n",
       "28            5   Certified                      71                 4   \n",
       "32            5   Certified                      71                 4   \n",
       "\n",
       "    employer_num_employees  employer_state  employer_yr_estab  \\\n",
       "2                 0.000113              50            0.99005   \n",
       "8                 0.000113              10            0.99005   \n",
       "11                0.000113              38            0.99005   \n",
       "12                0.000113              35            0.99005   \n",
       "13                0.000113              12            0.99005   \n",
       "16                0.000113              35            0.99005   \n",
       "20                0.000113              48            0.99005   \n",
       "24                0.000113              20            0.99005   \n",
       "28                0.000113              38            0.99005   \n",
       "32                0.000113              29            0.99005   \n",
       "\n",
       "    foreign_worker_info_education  foreign_worker_info_state  \\\n",
       "2                               5                          5   \n",
       "8                               5                          5   \n",
       "11                              5                          5   \n",
       "12                              5                          5   \n",
       "13                              5                          5   \n",
       "16                              5                          5   \n",
       "20                              5                          5   \n",
       "24                              5                          5   \n",
       "28                              5                          5   \n",
       "32                              5                          5   \n",
       "\n",
       "    ji_live_in_domestic_service   ...    recr_info_sunday_newspaper  \\\n",
       "2                             1   ...                             2   \n",
       "8                             1   ...                             2   \n",
       "11                            1   ...                             2   \n",
       "12                            1   ...                             2   \n",
       "13                            1   ...                             2   \n",
       "16                            1   ...                             2   \n",
       "20                            1   ...                             2   \n",
       "24                            1   ...                             2   \n",
       "28                            1   ...                             2   \n",
       "32                            1   ...                             2   \n",
       "\n",
       "    ri_2nd_ad_newspaper_or_journal  ri_layoff_in_past_six_months  \\\n",
       "2                                2                             1   \n",
       "8                                2                             1   \n",
       "11                               2                             1   \n",
       "12                               2                             1   \n",
       "13                               2                             1   \n",
       "16                               2                             1   \n",
       "20                               2                             1   \n",
       "24                               2                             1   \n",
       "28                               2                             1   \n",
       "32                               2                             1   \n",
       "\n",
       "    ri_posted_notice_at_worksite  year  num_applications_EMP  \\\n",
       "2                              3   0.0              0.000000   \n",
       "8                              3   0.2              0.000191   \n",
       "11                             3   0.2              0.000000   \n",
       "12                             3   0.2              0.000000   \n",
       "13                             3   0.0              0.000572   \n",
       "16                             3   0.0              0.051649   \n",
       "20                             3   0.0              0.000191   \n",
       "24                             3   0.2              0.000000   \n",
       "28                             3   0.2              0.034305   \n",
       "32                             3   0.0              0.000000   \n",
       "\n",
       "    acceptance_rate_EMP  num_applications_SOC  acceptance_rate_SOC  target  \n",
       "2              1.000000              0.016990             0.874862       1  \n",
       "8              1.000000              0.033998             0.563677       1  \n",
       "11             1.000000              0.002938             0.878981       1  \n",
       "12             1.000000              0.000735             0.825000       1  \n",
       "13             1.000000              0.001205             0.769231       1  \n",
       "16             0.779412              0.033998             0.563677       1  \n",
       "20             1.000000              0.014767             0.900637       1  \n",
       "24             0.980392              0.002693             0.888889      -1  \n",
       "28             0.955801              0.013147             0.874106       1  \n",
       "32             1.000000              0.012940             0.604651       1  \n",
       "\n",
       "[10 rows x 38 columns]"
      ]
     },
     "execution_count": 55,
     "metadata": {},
     "output_type": "execute_result"
    }
   ],
   "source": [
    "visasH.head(10)"
   ]
  },
  {
   "cell_type": "markdown",
   "metadata": {},
   "source": [
    "Dado que los datos están desbalanceados se implementaron dos estrategias para crear dos conjuntos de datos balanceados: la primera consiste en llevar a cabo un sobremuestreo de la calse minoritaria y la segunda realiza un submuestreo de la clase mayoritaria. "
   ]
  },
  {
   "cell_type": "code",
   "execution_count": 56,
   "metadata": {
    "collapsed": true
   },
   "outputs": [],
   "source": [
    "# Fuente: https://elitedatascience.com/imbalanced-classes\n",
    "# Balanceo de los datos con sobremuestreo de la clase minoritaria y submuestreo de la clase mayoritaria\n",
    "from sklearn.utils import resample\n",
    "\n",
    "visas_negadas = visasH['target'].value_counts()[-1]\n",
    "visas_aceptadas = visasH['target'].value_counts()[1]\n",
    "\n",
    "visas_minoria = visasH[visasH['target']==-1]\n",
    "visas_mayoria = visasH[visasH['target']==1]\n",
    "\n",
    "visas_negadas_sobrem = resample(visas_minoria, replace=True, n_samples=visas_aceptadas, random_state=123)\n",
    "\n",
    "visas_aceptadas_subm = resample(visas_mayoria, replace=True, n_samples=visas_negadas, random_state=123)\n",
    "\n",
    "visasH_sobrem = pd.concat([visas_mayoria, visas_negadas_sobrem])\n",
    "\n",
    "visasH_submst = pd.concat([visas_minoria, visas_aceptadas_subm])"
   ]
  },
  {
   "cell_type": "code",
   "execution_count": 57,
   "metadata": {},
   "outputs": [
    {
     "data": {
      "text/plain": [
       "Certified    138329\n",
       "Denied       138329\n",
       "Name: case_status, dtype: int64"
      ]
     },
     "execution_count": 57,
     "metadata": {},
     "output_type": "execute_result"
    }
   ],
   "source": [
    "visasH_sobrem['case_status'].value_counts()"
   ]
  },
  {
   "cell_type": "code",
   "execution_count": 58,
   "metadata": {},
   "outputs": [
    {
     "data": {
      "text/plain": [
       "Certified    14130\n",
       "Denied       14130\n",
       "Name: case_status, dtype: int64"
      ]
     },
     "execution_count": 58,
     "metadata": {},
     "output_type": "execute_result"
    }
   ],
   "source": [
    "visasH_submst['case_status'].value_counts()"
   ]
  },
  {
   "cell_type": "code",
   "execution_count": 59,
   "metadata": {
    "collapsed": true
   },
   "outputs": [],
   "source": [
    "# Creación de dos conjuntos de datos balanceados\n",
    "X1 = visasH_sobrem[feat_columns]\n",
    "y1 = visasH_sobrem['target']\n",
    "\n",
    "X2 = visasH_submst[feat_columns]\n",
    "y2 = visasH_submst['target']"
   ]
  },
  {
   "cell_type": "markdown",
   "metadata": {},
   "source": [
    "### Conjuntos de Entrenamiento, Validación y Prueba"
   ]
  },
  {
   "cell_type": "markdown",
   "metadata": {},
   "source": [
    "Para la creación de los conjuntos de entrenamiento, validación y prueba se optó por destinar el 60% de los datos para entrenamiento, el 20% para validación y el 20% para prueba. "
   ]
  },
  {
   "cell_type": "code",
   "execution_count": 60,
   "metadata": {
    "collapsed": true
   },
   "outputs": [],
   "source": [
    "from sklearn.model_selection import train_test_split\n",
    "\n",
    "X_trainval1, X_test1, y_trainval1, y_test1 = train_test_split(X1, y1, test_size=0.20, random_state=0)\n",
    "X_train1, X_val1, y_train1, y_val1 = train_test_split(X_trainval1, y_trainval1, test_size=0.25, random_state=0)\n",
    "\n",
    "X_trainval2, X_test2, y_trainval2, y_test2 = train_test_split(X2, y2, test_size=0.20, random_state=0)\n",
    "X_train2, X_val2, y_train2, y_val2 = train_test_split(X_trainval2, y_trainval2, test_size=0.25, random_state=0)"
   ]
  },
  {
   "cell_type": "markdown",
   "metadata": {},
   "source": [
    "### Random Forest"
   ]
  },
  {
   "cell_type": "markdown",
   "metadata": {},
   "source": [
    "#### Conjunto de datos 1"
   ]
  },
  {
   "cell_type": "markdown",
   "metadata": {},
   "source": [
    "En primer lugar se llevará a cabo una optimización del número de árboles mediante validación cruzada y posteriormente se usará este parámetro para opitimizar la profundidad. "
   ]
  },
  {
   "cell_type": "code",
   "execution_count": 48,
   "metadata": {},
   "outputs": [
    {
     "name": "stdout",
     "output_type": "stream",
     "text": [
      "Mejor valor de n_estimators : 78\n",
      "Exactitud de RandomForest en conjunto de entrenamiento : 0.9894213043844958\n",
      "Exactitud de RandomForest en conjunto de validación    : 0.9722764403961541\n"
     ]
    }
   ],
   "source": [
    "from sklearn.ensemble import RandomForestClassifier\n",
    "\n",
    "mejor_score = 0\n",
    "mejor_n_estimators = None\n",
    "mejor_modelo_rf = None\n",
    "\n",
    "n_estimators_grid = np.linspace(2,80,40).astype(int)  # ~ [2, 4, 6, ..., 80] \n",
    "\n",
    "for n_estimators in n_estimators_grid: \n",
    "    modelo_rf = RandomForestClassifier(n_estimators=n_estimators, random_state=0)\n",
    "    modelo_rf.fit(X_train1, y_train1)\n",
    "    \n",
    "    score_train = modelo_rf.score(X_train1, y_train1)\n",
    "    \n",
    "    score_val = modelo_rf.score(X_val1, y_val1)\n",
    "    \n",
    "    \n",
    "    if score_val > mejor_score: \n",
    "        mejor_score = score_val\n",
    "        mejor_n_estimators = n_estimators\n",
    "        mejor_modelo_rf = modelo_rf\n",
    "\n",
    "modelo_rf = mejor_modelo_rf\n",
    "modelo_rf.fit(X_train1, y_train1)\n",
    "\n",
    "print (\"Mejor valor de n_estimators :\", mejor_n_estimators)\n",
    "print (\"Exactitud de RandomForest en conjunto de entrenamiento :\", modelo_rf.score(X_train1, y_train1))\n",
    "print (\"Exactitud de RandomForest en conjunto de validación    :\", modelo_rf.score(X_val1, y_val1))"
   ]
  },
  {
   "cell_type": "code",
   "execution_count": 41,
   "metadata": {},
   "outputs": [
    {
     "name": "stdout",
     "output_type": "stream",
     "text": [
      "Mejor valor de max_depth : 10\n",
      "Exactitud de RandomForest en conjunto de entrenamiento : 0.8727845584780173\n",
      "Exactitud de RandomForest en conjunto de validación    : 0.8708884551434974\n"
     ]
    }
   ],
   "source": [
    "from sklearn.ensemble import RandomForestClassifier\n",
    "\n",
    "mejor_score = 0\n",
    "mejor_max_depth = None\n",
    "mejor_modelo_rf = None\n",
    "\n",
    "max_depth_grid = np.linspace(2,10,5).astype(int)  # ~ [2, 4, 6, ..., 10] \n",
    "\n",
    "for max_depth in max_depth_grid: \n",
    "    modelo_rf = RandomForestClassifier(n_estimators=78, max_depth = max_depth, random_state=0)\n",
    "    modelo_rf.fit(X_train1, y_train1)\n",
    "    \n",
    "    score_train = modelo_rf.score(X_train1, y_train1)\n",
    "    \n",
    "    score_val = modelo_rf.score(X_val1, y_val1)\n",
    "    \n",
    "    if score_val > mejor_score: \n",
    "        mejor_score = score_val\n",
    "        mejor_max_depth = max_depth\n",
    "        mejor_modelo_rf = modelo_rf\n",
    "\n",
    "modelo_rf = mejor_modelo_rf\n",
    "modelo_rf.fit(X_train1, y_train1)\n",
    "\n",
    "print (\"Mejor valor de max_depth :\", mejor_max_depth)\n",
    "print (\"Exactitud de RandomForest en conjunto de entrenamiento :\", modelo_rf.score(X_train1, y_train1))\n",
    "print (\"Exactitud de RandomForest en conjunto de validación    :\", modelo_rf.score(X_val1, y_val1))"
   ]
  },
  {
   "cell_type": "code",
   "execution_count": 43,
   "metadata": {},
   "outputs": [
    {
     "name": "stdout",
     "output_type": "stream",
     "text": [
      "Random Forests: \n",
      "[0.86989519 0.85616191 0.86844958 0.86646187 0.86682327 0.87059461\n",
      " 0.86661847 0.86876356 0.87057122 0.86930586]\n",
      "Exactitud de Random Forests es:  86.93706154573174\n"
     ]
    }
   ],
   "source": [
    "from sklearn.model_selection import cross_val_score\n",
    "\n",
    "rf_class = RandomForestClassifier(n_estimators=78, max_depth=10)\n",
    "print(\"Random Forests: \")\n",
    "print(cross_val_score(rf_class, X_val1, y_val1, scoring='accuracy', cv = 10))\n",
    "accuracy = cross_val_score(rf_class, X_val1, y_val1, scoring='accuracy', cv = 10).mean() * 100\n",
    "print(\"Exactitud de Random Forests es: \" , accuracy)\n",
    "# Fuente: https://pythonforengineers.com/cross-validation-and-model-selection/"
   ]
  },
  {
   "cell_type": "markdown",
   "metadata": {},
   "source": [
    "Una vez validado el modelo se puede medir la exactitud en el conjunto de prueba:"
   ]
  },
  {
   "cell_type": "code",
   "execution_count": 46,
   "metadata": {},
   "outputs": [
    {
     "data": {
      "text/plain": [
       "RandomForestClassifier(bootstrap=True, class_weight=None, criterion='gini',\n",
       "            max_depth=10, max_features='auto', max_leaf_nodes=None,\n",
       "            min_impurity_decrease=0.0, min_impurity_split=None,\n",
       "            min_samples_leaf=1, min_samples_split=2,\n",
       "            min_weight_fraction_leaf=0.0, n_estimators=78, n_jobs=-1,\n",
       "            oob_score=False, random_state=None, verbose=0,\n",
       "            warm_start=False)"
      ]
     },
     "execution_count": 46,
     "metadata": {},
     "output_type": "execute_result"
    }
   ],
   "source": [
    "m_rf= RandomForestClassifier(n_estimators=78, max_depth=10, n_jobs=-1)\n",
    "m_rf.fit(X_trainval1, y_trainval1)"
   ]
  },
  {
   "cell_type": "code",
   "execution_count": 47,
   "metadata": {},
   "outputs": [
    {
     "data": {
      "text/plain": [
       "0.8648340923877684"
      ]
     },
     "execution_count": 47,
     "metadata": {},
     "output_type": "execute_result"
    }
   ],
   "source": [
    "m_rf.score(X_test1, y_test1)"
   ]
  },
  {
   "cell_type": "markdown",
   "metadata": {},
   "source": [
    "#### Conjunto de datos 2"
   ]
  },
  {
   "cell_type": "code",
   "execution_count": 50,
   "metadata": {},
   "outputs": [
    {
     "name": "stdout",
     "output_type": "stream",
     "text": [
      "Mejor valor de n_estimators : 58\n",
      "Exactitud de RandomForest en conjunto de entrenamiento : 0.9925100259495164\n",
      "Exactitud de RandomForest en conjunto de validación    : 0.8720806794055201\n"
     ]
    }
   ],
   "source": [
    "from sklearn.ensemble import RandomForestClassifier\n",
    "\n",
    "mejor_score = 0\n",
    "mejor_n_estimators = None\n",
    "mejor_modelo_rf = None\n",
    "\n",
    "n_estimators_grid = np.linspace(2,80,40).astype(int)  # ~ [2, 4, 6, ..., 80] \n",
    "\n",
    "for n_estimators in n_estimators_grid: \n",
    "    modelo_rf = RandomForestClassifier(n_estimators=n_estimators, random_state=0)\n",
    "    modelo_rf.fit(X_train2, y_train2)\n",
    "    \n",
    "    score_train = modelo_rf.score(X_train2, y_train2)\n",
    "    \n",
    "    score_val = modelo_rf.score(X_val2, y_val2)\n",
    "    \n",
    "    if score_val > mejor_score: \n",
    "        mejor_score = score_val\n",
    "        mejor_n_estimators = n_estimators\n",
    "        mejor_modelo_rf = modelo_rf\n",
    "\n",
    "modelo_rf = mejor_modelo_rf\n",
    "modelo_rf.fit(X_train2, y_train2)\n",
    "\n",
    "print (\"Mejor valor de n_estimators :\", mejor_n_estimators)\n",
    "print (\"Exactitud de RandomForest en conjunto de entrenamiento :\", modelo_rf.score(X_train2, y_train2))\n",
    "print (\"Exactitud de RandomForest en conjunto de validación    :\", modelo_rf.score(X_val2, y_val2))"
   ]
  },
  {
   "cell_type": "code",
   "execution_count": 51,
   "metadata": {},
   "outputs": [
    {
     "name": "stdout",
     "output_type": "stream",
     "text": [
      "Mejor valor de max_depth : 10\n",
      "Exactitud de RandomForest en conjunto de entrenamiento : 0.8862939372493512\n",
      "Exactitud de RandomForest en conjunto de validación    : 0.8704883227176221\n"
     ]
    }
   ],
   "source": [
    "from sklearn.ensemble import RandomForestClassifier\n",
    "\n",
    "mejor_score = 0\n",
    "mejor_max_depth = None\n",
    "mejor_modelo_rf = None\n",
    "\n",
    "\n",
    "max_depth_grid = np.linspace(2,10,5).astype(int)  # ~ [2, 4, 6, ..., 10] \n",
    "\n",
    "for max_depth in max_depth_grid: \n",
    "    modelo_rf = RandomForestClassifier(n_estimators=58, max_depth = max_depth, random_state=0)\n",
    "    modelo_rf.fit(X_train2, y_train2)\n",
    "    \n",
    "    score_train = modelo_rf.score(X_train2, y_train2)\n",
    "    \n",
    "    score_val = modelo_rf.score(X_val2, y_val2)\n",
    "    \n",
    "    if score_val > mejor_score: \n",
    "        mejor_score = score_val\n",
    "        mejor_max_depth = max_depth\n",
    "        mejor_modelo_rf = modelo_rf\n",
    "\n",
    "modelo_rf = mejor_modelo_rf\n",
    "modelo_rf.fit(X_train2, y_train2)\n",
    "\n",
    "print (\"Mejor valor de max_depth :\", mejor_max_depth)\n",
    "print (\"Exactitud de RandomForest en conjunto de entrenamiento :\", modelo_rf.score(X_train2, y_train2))\n",
    "print (\"Exactitud de RandomForest en conjunto de validación    :\", modelo_rf.score(X_val2, y_val2))"
   ]
  },
  {
   "cell_type": "code",
   "execution_count": 52,
   "metadata": {},
   "outputs": [
    {
     "name": "stdout",
     "output_type": "stream",
     "text": [
      "Random Forests: \n",
      "[0.85865724 0.8409894  0.86548673 0.87256637 0.87964602 0.88849558\n",
      " 0.86371681 0.8619469  0.84247788 0.82477876]\n",
      "Exactitud de Random Forests es:  86.04049532505707\n"
     ]
    }
   ],
   "source": [
    "from sklearn.model_selection import cross_val_score\n",
    "\n",
    "rf_class = RandomForestClassifier(n_estimators=58, max_depth=10)\n",
    "print(\"Random Forests: \")\n",
    "print(cross_val_score(rf_class, X_val2, y_val2, scoring='accuracy', cv = 10))\n",
    "accuracy = cross_val_score(rf_class, X_val2, y_val2, scoring='accuracy', cv = 10).mean() * 100\n",
    "print(\"Exactitud de Random Forests es: \" , accuracy)\n",
    "# Fuente: https://pythonforengineers.com/cross-validation-and-model-selection/"
   ]
  },
  {
   "cell_type": "code",
   "execution_count": 53,
   "metadata": {},
   "outputs": [
    {
     "data": {
      "text/plain": [
       "RandomForestClassifier(bootstrap=True, class_weight=None, criterion='gini',\n",
       "            max_depth=10, max_features='auto', max_leaf_nodes=None,\n",
       "            min_impurity_decrease=0.0, min_impurity_split=None,\n",
       "            min_samples_leaf=1, min_samples_split=2,\n",
       "            min_weight_fraction_leaf=0.0, n_estimators=58, n_jobs=-1,\n",
       "            oob_score=False, random_state=None, verbose=0,\n",
       "            warm_start=False)"
      ]
     },
     "execution_count": 53,
     "metadata": {},
     "output_type": "execute_result"
    }
   ],
   "source": [
    "m_rf= RandomForestClassifier(n_estimators=58, max_depth=10, n_jobs=-1)\n",
    "m_rf.fit(X_trainval2, y_trainval2)"
   ]
  },
  {
   "cell_type": "code",
   "execution_count": 54,
   "metadata": {},
   "outputs": [
    {
     "data": {
      "text/plain": [
       "0.8650035385704176"
      ]
     },
     "execution_count": 54,
     "metadata": {},
     "output_type": "execute_result"
    }
   ],
   "source": [
    "m_rf.score(X_test2, y_test2)"
   ]
  },
  {
   "cell_type": "markdown",
   "metadata": {},
   "source": [
    "Comparando la exactitud obtenida en los conjuntos 1 y 2 se aprecia que el método utilizado para balancear los datos no tiene una influencia significativa en el desempeño del modelo de Random Forest. "
   ]
  },
  {
   "cell_type": "markdown",
   "metadata": {},
   "source": [
    "#### Importancia de los atributos"
   ]
  },
  {
   "cell_type": "code",
   "execution_count": 55,
   "metadata": {},
   "outputs": [
    {
     "data": {
      "text/plain": [
       "<matplotlib.axes._subplots.AxesSubplot at 0x1ef02808198>"
      ]
     },
     "execution_count": 55,
     "metadata": {},
     "output_type": "execute_result"
    },
    {
     "data": {
      "image/png": "[encoded data removed]",
      "text/plain": [
       "<matplotlib.figure.Figure at 0x1ef02823d30>"
      ]
     },
     "metadata": {},
     "output_type": "display_data"
    }
   ],
   "source": [
    "feat_importance = pd.DataFrame({'cols':X_train1.columns, 'imp':m_rf.feature_importances_}).sort_values('imp', ascending=False) \n",
    "feat_importance.plot('cols', 'imp', 'barh', figsize=(12,7), legend=False)"
   ]
  },
  {
   "cell_type": "markdown",
   "metadata": {},
   "source": [
    "La gráfica anterior muestra que los 5 atributos que mayor peso tienen en la predicción del resultado de una solicitud de visa son la tasa de aceptación obtenida tanto por el empleador como por el sector ocupacional, el número de solicitudes que han sido presentadas anteriormente por el empleador, el número de empleados del empleador y el salario predominante.\n",
    "Esta gráfica también sugiere que existe un grupo de atributos que no influyen en el resultado de la solicitud como el país del empleador, los cuales podrían eliminarse del conjunto de datos en futuros experimentos para mejorar el desempeño de los modelos."
   ]
  },
  {
   "cell_type": "code",
   "execution_count": 77,
   "metadata": {},
   "outputs": [
    {
     "name": "stdout",
     "output_type": "stream",
     "text": [
      "Exactitud en el conjunto de validación     : 0.865\n",
      "Precisión en el conjunto de validación     : 0.907\n",
      "Exhaustividad en el conjunto de validación : 0.825\n"
     ]
    }
   ],
   "source": [
    "from sklearn import metrics\n",
    "\n",
    "predicciones_test_rf = m_rf.predict(X_test2)\n",
    "accuracy_test =metrics.accuracy_score(y_test2, predicciones_test_rf) \n",
    "precision_test = metrics.precision_score(y_test2, predicciones_test_rf) \n",
    "recall_val= metrics.recall_score(y_val2, predicciones_test_rf)      \n",
    "print('Exactitud en el conjunto de validación     : {:.3f}'.format(accuracy_test))\n",
    "print('Precisión en el conjunto de validación     : {:.3f}'.format(precision_test))\n",
    "print('Exhaustividad en el conjunto de validación : {:.3f}'.format(recall_test))"
   ]
  },
  {
   "cell_type": "markdown",
   "metadata": {},
   "source": [
    "### Regresión Logística"
   ]
  },
  {
   "cell_type": "markdown",
   "metadata": {},
   "source": [
    "#### Conjunto 1"
   ]
  },
  {
   "cell_type": "code",
   "execution_count": 58,
   "metadata": {},
   "outputs": [
    {
     "name": "stdout",
     "output_type": "stream",
     "text": [
      "Mejor valor de C : 0.1\n",
      "Exactitud de Regresión Logística en conjunto de entrenamiento : 0.7601841030398689\n",
      "Exactitud de Regresión Logística en conjunto de validación    : 0.7625966890768452\n"
     ]
    }
   ],
   "source": [
    "from sklearn.linear_model import LogisticRegression\n",
    "\n",
    "mejor_score = 0\n",
    "mejor_C = None\n",
    "mejor_modelo_log = None\n",
    "\n",
    "C_grid = np.logspace(-2,4,13)  # ~ [0.01, 0.03, 0.1, ..., 10000] \n",
    "\n",
    "for C in C_grid:\n",
    "    ml = LogisticRegression(C=C, random_state=0)\n",
    "    ml.fit(X_train1, y_train1)\n",
    "    score_train = ml.score(X_train1, y_train1)\n",
    "    score_val = ml.score(X_val1, y_val1)\n",
    "    \n",
    "    if score_val > mejor_score: \n",
    "        mejor_score = score_val\n",
    "        mejor_C = C\n",
    "        mejor_modelo_log = ml\n",
    "\n",
    "modelo_log = mejor_modelo_log\n",
    "modelo_log.fit(X_train1, y_train1)\n",
    "    \n",
    "print (\"Mejor valor de C :\", mejor_C)\n",
    "print (\"Exactitud de Regresión Logística en conjunto de entrenamiento :\", modelo_log.score(X_train1, y_train1))\n",
    "print (\"Exactitud de Regresión Logística en conjunto de validación    :\", modelo_log.score(X_val1, y_val1))"
   ]
  },
  {
   "cell_type": "code",
   "execution_count": 61,
   "metadata": {},
   "outputs": [
    {
     "name": "stdout",
     "output_type": "stream",
     "text": [
      "\n",
      "\n",
      " Regresión Logistica:\n",
      "[0.76093242 0.7580412  0.75406578 0.76147452 0.75352367 0.7565516\n",
      " 0.75908187 0.76373825 0.75542299 0.76464208]\n",
      "Exactitud de Regresión Logística:  75.87474383831604\n"
     ]
    }
   ],
   "source": [
    "log_class1 = LogisticRegression(C=0.1)\n",
    "print(\"\\n\\n Regresión Logistica:\")\n",
    "print(cross_val_score(log_class1, X_val1, y_val1, scoring='accuracy', cv = 10))\n",
    "accuracy = cross_val_score(log_class1, X_val1, y_val1, scoring='accuracy', cv = 10).mean() * 100\n",
    "print(\"Exactitud de Regresión Logística: \" , accuracy)\n",
    " #https://pythonforengineers.com/cross-validation-and-model-selection/"
   ]
  },
  {
   "cell_type": "code",
   "execution_count": 62,
   "metadata": {},
   "outputs": [
    {
     "data": {
      "text/plain": [
       "LogisticRegression(C=0.1, class_weight=None, dual=False, fit_intercept=True,\n",
       "          intercept_scaling=1, max_iter=100, multi_class='ovr', n_jobs=1,\n",
       "          penalty='l2', random_state=None, solver='liblinear', tol=0.0001,\n",
       "          verbose=0, warm_start=False)"
      ]
     },
     "execution_count": 62,
     "metadata": {},
     "output_type": "execute_result"
    }
   ],
   "source": [
    "ml_1 = LogisticRegression(C=0.1) \n",
    "ml_1.fit(X_trainval1, y_trainval1)"
   ]
  },
  {
   "cell_type": "code",
   "execution_count": 63,
   "metadata": {},
   "outputs": [
    {
     "data": {
      "text/plain": [
       "0.752765126870527"
      ]
     },
     "execution_count": 63,
     "metadata": {},
     "output_type": "execute_result"
    }
   ],
   "source": [
    "ml_1.score(X_test1, y_test1)"
   ]
  },
  {
   "cell_type": "markdown",
   "metadata": {},
   "source": [
    "#### Conjunto 2"
   ]
  },
  {
   "cell_type": "code",
   "execution_count": 64,
   "metadata": {},
   "outputs": [
    {
     "name": "stdout",
     "output_type": "stream",
     "text": [
      "Mejor valor de C : 1.0\n",
      "Exactitud de Regresión Logística en conjunto de entrenamiento : 0.7607336635999057\n",
      "Exactitud de Regresión Logística en conjunto de validación    : 0.7607926397735315\n"
     ]
    }
   ],
   "source": [
    "from sklearn.linear_model import LogisticRegression\n",
    "\n",
    "mejor_score = 0\n",
    "mejor_C = None\n",
    "mejor_modelo_log = None\n",
    "\n",
    "C_grid = np.logspace(-2,4,13)  # ~ [0.01, 0.03, 0.1, ..., 10000] \n",
    "\n",
    "for C in C_grid:\n",
    "    ml = LogisticRegression(C=C, random_state=0)\n",
    "    ml.fit(X_train2, y_train2)\n",
    "    score_train = ml.score(X_train2, y_train2)\n",
    "    score_val = ml.score(X_val2, y_val2)\n",
    "    \n",
    "    if score_val > mejor_score: \n",
    "        mejor_score = score_val\n",
    "        mejor_C = C\n",
    "        mejor_modelo_log = ml\n",
    "\n",
    "modelo_log = mejor_modelo_log\n",
    "modelo_log.fit(X_train2, y_train2)\n",
    "    \n",
    "print (\"Mejor valor de C :\", mejor_C)\n",
    "print (\"Exactitud de Regresión Logística en conjunto de entrenamiento :\", modelo_log.score(X_train2, y_train2))\n",
    "print (\"Exactitud de Regresión Logística en conjunto de validación    :\", modelo_log.score(X_val2, y_val2))"
   ]
  },
  {
   "cell_type": "code",
   "execution_count": 65,
   "metadata": {},
   "outputs": [
    {
     "name": "stdout",
     "output_type": "stream",
     "text": [
      "\n",
      "\n",
      " Regresión Logistica:\n",
      "[0.75441696 0.74028269 0.79115044 0.75929204 0.77522124 0.78938053\n",
      " 0.74159292 0.7699115  0.74867257 0.74513274]\n",
      "Exactitud de Regresión Logística:  76.15053628943994\n"
     ]
    }
   ],
   "source": [
    "log_class2 = LogisticRegression(C=1.0)\n",
    "print(\"\\n\\n Regresión Logistica:\")\n",
    "print(cross_val_score(log_class2, X_val2, y_val2, scoring='accuracy', cv = 10))\n",
    "accuracy = cross_val_score(log_class2, X_val2, y_val2, scoring='accuracy', cv = 10).mean() * 100\n",
    "print(\"Exactitud de Regresión Logística: \" , accuracy)\n",
    " #https://pythonforengineers.com/cross-validation-and-model-selection/"
   ]
  },
  {
   "cell_type": "code",
   "execution_count": 66,
   "metadata": {},
   "outputs": [
    {
     "data": {
      "text/plain": [
       "LogisticRegression(C=1.0, class_weight=None, dual=False, fit_intercept=True,\n",
       "          intercept_scaling=1, max_iter=100, multi_class='ovr', n_jobs=1,\n",
       "          penalty='l2', random_state=None, solver='liblinear', tol=0.0001,\n",
       "          verbose=0, warm_start=False)"
      ]
     },
     "execution_count": 66,
     "metadata": {},
     "output_type": "execute_result"
    }
   ],
   "source": [
    "ml_2 = LogisticRegression(C=1.0) \n",
    "ml_2.fit(X_trainval2, y_trainval2)"
   ]
  },
  {
   "cell_type": "code",
   "execution_count": 67,
   "metadata": {},
   "outputs": [
    {
     "data": {
      "text/plain": [
       "0.7701698513800425"
      ]
     },
     "execution_count": 67,
     "metadata": {},
     "output_type": "execute_result"
    }
   ],
   "source": [
    "ml_2.score(X_test2, y_test2)"
   ]
  },
  {
   "cell_type": "markdown",
   "metadata": {},
   "source": [
    "Comparando la exactitud obtenida en los conjuntos 1 y 2 se aprecia que el método utilizado para balancear los datos sí tiene una influencia en el desempeño del modelo de Regresión Logística, se observa que el mejor desempeño se obtuvo al realizar el submuestreo de la clase mayoritaria."
   ]
  },
  {
   "cell_type": "markdown",
   "metadata": {},
   "source": [
    "Se muestran a continuación la matriz de confusión y la curva ROC para el modelo de regresión logística desarrollado en el conjunto de datos de prueba 2."
   ]
  },
  {
   "cell_type": "code",
   "execution_count": 68,
   "metadata": {
    "collapsed": true
   },
   "outputs": [],
   "source": [
    "from sklearn import metrics\n",
    "\n",
    "def print_binary_confusion_matrix(matrix):\n",
    "    TN = matrix[0,0]\n",
    "    FN = matrix[1,0]\n",
    "    FP = matrix[0,1]\n",
    "    TP = matrix[1,1]\n",
    "\n",
    "    print ('              +-----------------+')\n",
    "    print ('              |   Predicción    |')\n",
    "    print ('              +-----------------+')\n",
    "    print ('              |    +   |    -   |')\n",
    "    print ('+-------+-----+--------+--------+')\n",
    "    print ('| Valor |  +  |  {:5d} |  {:5d} |'.format(TP, FN) )\n",
    "    print ('| real  +-----+--------+--------+')\n",
    "    print ('|       |  -  |  {:5d} |  {:5d} |'.format(FP, TN) )\n",
    "    print ('+-------+-----+--------+--------+')"
   ]
  },
  {
   "cell_type": "code",
   "execution_count": 70,
   "metadata": {},
   "outputs": [
    {
     "name": "stdout",
     "output_type": "stream",
     "text": [
      "              +-----------------+\n",
      "              |   Predicción    |\n",
      "              +-----------------+\n",
      "              |    +   |    -   |\n",
      "+-------+-----+--------+--------+\n",
      "| Valor |  +  |   2380 |    505 |\n",
      "| real  +-----+--------+--------+\n",
      "|       |  -  |    794 |   1973 |\n",
      "+-------+-----+--------+--------+\n",
      "Exactitud en el conjunto de validación     : 0.770\n",
      "Precisión en el conjunto de validación     : 0.750\n",
      "Exhaustividad en el conjunto de validación : 0.825\n"
     ]
    }
   ],
   "source": [
    "probabilidades_test = ml_2.predict_proba(X_test2)\n",
    "predicciones_test = np.where(probabilidades_test[:,1] > 0.5, +1, -1) \n",
    "matriz = metrics.confusion_matrix(y_test2, predicciones_test)\n",
    "TN = matriz[0,0]\n",
    "FN = matriz[1,0]\n",
    "FP = matriz[0,1]\n",
    "TP = matriz[1,1]\n",
    "accuracy_test = (TN+TP)/(TN+TP+FN+FP)\n",
    "precision_test = TP/(TP+FP)\n",
    "recall_test = TP/(TP+FN)\n",
    "### FIN DE TU CÓDIGO\n",
    "\n",
    "print_binary_confusion_matrix(matriz)\n",
    "print('Exactitud en el conjunto de validación     : {:.3f}'.format(accuracy_test))\n",
    "print('Precisión en el conjunto de validación     : {:.3f}'.format(precision_test))\n",
    "print('Exhaustividad en el conjunto de validación : {:.3f}'.format(recall_test))"
   ]
  },
  {
   "cell_type": "code",
   "execution_count": 72,
   "metadata": {},
   "outputs": [
    {
     "name": "stdout",
     "output_type": "stream",
     "text": [
      "Exactitud en el conjunto de validación     : 0.770\n",
      "Precisión en el conjunto de validación     : 0.750\n",
      "Exhaustividad en el conjunto de validación : 0.825\n"
     ]
    }
   ],
   "source": [
    "from sklearn import metrics\n",
    "\n",
    "predicciones_val2 = ml_2.predict(X_test2)\n",
    "accuracy_val2 =metrics.accuracy_score(y_test2, predicciones_val2) \n",
    "precision_val2 = metrics.precision_score(y_test2, predicciones_val2) \n",
    "recall_val2 = metrics.recall_score(y_test2, predicciones_val2)      \n",
    "print('Exactitud en el conjunto de validación     : {:.3f}'.format(accuracy_val2))\n",
    "print('Precisión en el conjunto de validación     : {:.3f}'.format(precision_val2))\n",
    "print('Exhaustividad en el conjunto de validación : {:.3f}'.format(recall_val2))"
   ]
  },
  {
   "cell_type": "code",
   "execution_count": 75,
   "metadata": {},
   "outputs": [
    {
     "name": "stdout",
     "output_type": "stream",
     "text": [
      "             precision    recall  f1-score   support\n",
      "\n",
      "     Denied       0.80      0.71      0.75      2767\n",
      "  Certified       0.75      0.82      0.79      2885\n",
      "\n",
      "avg / total       0.77      0.77      0.77      5652\n",
      "\n"
     ]
    }
   ],
   "source": [
    "from sklearn.metrics import classification_report\n",
    "print(classification_report(y_test2, predicciones_test, target_names=[\"Denied\", \"Certified\"]))\n",
    "# Fuente: Müller, A. C., Guido, S. (2016). Introduction to Machine Learning with Python: A Guide for Data Scientists. O’Reilly Media"
   ]
  },
  {
   "cell_type": "code",
   "execution_count": 78,
   "metadata": {},
   "outputs": [
    {
     "data": {
      "text/plain": [
       "<matplotlib.legend.Legend at 0x1ef031e1a58>"
      ]
     },
     "execution_count": 78,
     "metadata": {},
     "output_type": "execute_result"
    },
    {
     "data": {
      "image/png": "[encoded data removed]",
      "text/plain": [
       "<matplotlib.figure.Figure at 0x1ef01f8b128>"
      ]
     },
     "metadata": {},
     "output_type": "display_data"
    }
   ],
   "source": [
    "y_pred_test2 = ml_2.predict_proba(X_test2)[:,1]\n",
    "fpr, tpr, umbrales = metrics.roc_curve(y_test2, y_pred_test2)\n",
    "auc_roc = metrics.roc_auc_score(y_test2, y_pred_test2)\n",
    "\n",
    "plt.rcParams.update({'font.size': 9})\n",
    "plt.plot(fpr, tpr, label= (\"Curva ROC\") )\n",
    "plt.xlabel(\"FPR\")\n",
    "plt.ylabel(\"TPR (exhaustividad)\")\n",
    "plt.title((\"Curva ROC RandomForest (AUC = %.4f)\" % auc_roc))\n",
    "# ubicamos el punto más cercano a 0.5\n",
    "umbral_05 = np.argmin(np.abs(umbrales - 0.5))\n",
    "plt.plot(fpr[umbral_05], tpr[umbral_05], 'o', markersize=10,\n",
    "         label=\"Umbral 0.5\", fillstyle=\"none\", c='r', mew=2)\n",
    "plt.legend(loc=4, numpoints=1)"
   ]
  },
  {
   "cell_type": "markdown",
   "metadata": {},
   "source": [
    "### AdaBoost"
   ]
  },
  {
   "cell_type": "markdown",
   "metadata": {},
   "source": [
    "Aplicamos AdaBoost para el conjunto de datos 1"
   ]
  },
  {
   "cell_type": "code",
   "execution_count": 61,
   "metadata": {
    "collapsed": true
   },
   "outputs": [],
   "source": [
    "from sklearn.ensemble import AdaBoostClassifier\n",
    "from sklearn.tree import DecisionTreeClassifier\n",
    "\n",
    "n_estimators=200\n",
    "min_samples_leaf_grid = np.linspace(1,10,10).astype(int) "
   ]
  },
  {
   "cell_type": "code",
   "execution_count": 62,
   "metadata": {},
   "outputs": [
    {
     "name": "stdout",
     "output_type": "stream",
     "text": [
      "Mejor valor de min_samples_leaf : 8\n",
      "Exactitud de AdaBoost en conjunto de entrenamiento : 0.9928792606961697\n",
      "Exactitud de AdaBoost en conjunto de validación    : 0.9779332032097159\n"
     ]
    }
   ],
   "source": [
    "mejor_score = 0\n",
    "mejor_min_samples_leaf = None\n",
    "\n",
    "for min_samples_leaf in min_samples_leaf_grid: \n",
    "    base_estimator = DecisionTreeClassifier(min_samples_leaf=min_samples_leaf, random_state=0)\n",
    "    modelo_ab = AdaBoostClassifier(base_estimator=base_estimator, n_estimators=n_estimators, random_state=0)\n",
    "    modelo_ab.fit(X_train1, y_train1)\n",
    "    \n",
    "    score_val = modelo_ab.score(X_val1, y_val1)\n",
    "    \n",
    "    if score_val > mejor_score: \n",
    "        mejor_score = score_val\n",
    "        mejor_min_samples_leaf = min_samples_leaf\n",
    "        mejor_modelo_ab = modelo_ab\n",
    "\n",
    "modelo_ab = mejor_modelo_ab\n",
    "modelo_ab.fit(X_train1, y_train1)\n",
    "\n",
    "print (\"Mejor valor de min_samples_leaf :\", mejor_min_samples_leaf)\n",
    "print (\"Exactitud de AdaBoost en conjunto de entrenamiento :\", modelo_ab.score(X_train1, y_train1))\n",
    "print (\"Exactitud de AdaBoost en conjunto de validación    :\", mejor_score)"
   ]
  },
  {
   "cell_type": "markdown",
   "metadata": {},
   "source": [
    "Aplicamos AdaBoost para el conjunto de datos 2"
   ]
  },
  {
   "cell_type": "code",
   "execution_count": 63,
   "metadata": {},
   "outputs": [
    {
     "name": "stdout",
     "output_type": "stream",
     "text": [
      "Mejor valor de min_samples_leaf : 1\n",
      "Exactitud de AdaBoost en conjunto de entrenamiento : 0.9951639537626799\n",
      "Exactitud de AdaBoost en conjunto de validación    : 0.8738499646142959\n"
     ]
    }
   ],
   "source": [
    "mejor_score = 0\n",
    "mejor_min_samples_leaf = None\n",
    "\n",
    "for min_samples_leaf in min_samples_leaf_grid: \n",
    "    base_estimator = DecisionTreeClassifier(min_samples_leaf=min_samples_leaf, random_state=0)\n",
    "    modelo_ab = AdaBoostClassifier(base_estimator=base_estimator, n_estimators=n_estimators, random_state=0)\n",
    "    modelo_ab.fit(X_train2, y_train2)\n",
    "    \n",
    "    score_val = modelo_ab.score(X_val2, y_val2)\n",
    "    \n",
    "    if score_val > mejor_score: \n",
    "        mejor_score = score_val\n",
    "        mejor_min_samples_leaf = min_samples_leaf\n",
    "        mejor_modelo_ab = modelo_ab\n",
    "\n",
    "modelo_ab = mejor_modelo_ab\n",
    "modelo_ab.fit(X_train2, y_train2)\n",
    "\n",
    "print (\"Mejor valor de min_samples_leaf :\", mejor_min_samples_leaf)\n",
    "print (\"Exactitud de AdaBoost en conjunto de entrenamiento :\", modelo_ab.score(X_train2, y_train2))\n",
    "print (\"Exactitud de AdaBoost en conjunto de validación    :\", mejor_score)"
   ]
  },
  {
   "cell_type": "markdown",
   "metadata": {},
   "source": [
    "### Redes Neuronales"
   ]
  },
  {
   "cell_type": "code",
   "execution_count": 61,
   "metadata": {
    "collapsed": true
   },
   "outputs": [],
   "source": [
    "#Referencia: http://scikit-learn.org/stable/modules/neural_networks_supervised.html\n",
    "from sklearn.neural_network import MLPClassifier"
   ]
  },
  {
   "cell_type": "code",
   "execution_count": 62,
   "metadata": {
    "collapsed": true
   },
   "outputs": [],
   "source": [
    "#Referencia: https://www.kdnuggets.com/2016/10/beginners-guide-neural-networks-python-scikit-learn.html/2\n",
    "from sklearn.metrics import classification_report, confusion_matrix"
   ]
  },
  {
   "cell_type": "markdown",
   "metadata": {},
   "source": [
    "Ejecutamos el clasificador con los siguientes parametros:"
   ]
  },
  {
   "cell_type": "code",
   "execution_count": 63,
   "metadata": {
    "collapsed": true
   },
   "outputs": [],
   "source": [
    "#Primera prueba de alphas, con los valores superiores a 1 no se tienen buenos resultados.\n",
    "#alphas = [0.000001, 0.00001, 0.0001, 0.001, 0.01, 0.1, 1, 10, 100]\n",
    "alphas = [0.000001, 0.00001, 0.0001, 0.001, 0.01, 0.1, 1]"
   ]
  },
  {
   "cell_type": "code",
   "execution_count": 64,
   "metadata": {
    "collapsed": true
   },
   "outputs": [],
   "source": [
    "capas = [(10,), (20,), (50,), (100,), \n",
    "         (100, 10), (100, 20), (100, 50),\n",
    "         (100, 50, 20), (100, 50, 10), (100, 20, 10),\n",
    "         (100, 50, 20, 10)]"
   ]
  },
  {
   "cell_type": "code",
   "execution_count": null,
   "metadata": {},
   "outputs": [
    {
     "name": "stdout",
     "output_type": "stream",
     "text": [
      "activation    : logistic\n",
      "num. iteration: 1000\n",
      "capas         : (10,)\n",
      "alpha         : 1e-06\n",
      "score         : 0.7771633051398829\n",
      "\n",
      "activation    : logistic\n",
      "num. iteration: 1000\n",
      "capas         : (20,)\n",
      "alpha         : 1e-06\n",
      "score         : 0.7801995228800694\n",
      "\n",
      "activation    : logistic\n",
      "num. iteration: 1000\n",
      "capas         : (50,)\n",
      "alpha         : 1e-06\n",
      "score         : 0.7910431576664498\n",
      "\n",
      "activation    : logistic\n",
      "num. iteration: 1000\n",
      "capas         : (100,)\n",
      "alpha         : 1e-06\n",
      "score         : 0.7812838863587075\n",
      "\n",
      "activation    : logistic\n",
      "num. iteration: 1000\n",
      "capas         : (100, 10)\n",
      "alpha         : 1e-06\n",
      "score         : 0.7940974481312802\n",
      "\n",
      "activation    : logistic\n",
      "num. iteration: 1000\n",
      "capas         : (100, 20)\n",
      "alpha         : 1e-06\n",
      "score         : 0.7812477409094195\n",
      "\n",
      "activation    : logistic\n",
      "num. iteration: 1000\n",
      "capas         : (100, 50)\n",
      "alpha         : 1e-06\n",
      "score         : 0.7927239210583388\n",
      "\n",
      "activation    : logistic\n",
      "num. iteration: 1000\n",
      "capas         : (100, 50, 20)\n",
      "alpha         : 1e-06\n",
      "score         : 0.7833080315188318\n",
      "\n",
      "activation    : logistic\n",
      "num. iteration: 1000\n",
      "capas         : (100, 50, 10)\n",
      "alpha         : 1e-06\n",
      "score         : 0.7981457384515289\n",
      "\n",
      "activation    : logistic\n",
      "num. iteration: 1000\n",
      "capas         : (100, 20, 10)\n",
      "alpha         : 1e-06\n",
      "score         : 0.7890370852309694\n",
      "\n",
      "activation    : logistic\n",
      "num. iteration: 1000\n",
      "capas         : (100, 50, 20, 10)\n",
      "alpha         : 1e-06\n",
      "score         : 0.7890370852309694\n",
      "\n",
      "activation    : logistic\n",
      "num. iteration: 1000\n",
      "capas         : (10,)\n",
      "alpha         : 1e-05\n",
      "score         : 0.7830911588231042\n",
      "\n",
      "activation    : logistic\n",
      "num. iteration: 1000\n",
      "capas         : (20,)\n",
      "alpha         : 1e-05\n",
      "score         : 0.7846092676931974\n",
      "\n",
      "activation    : logistic\n",
      "num. iteration: 1000\n",
      "capas         : (50,)\n",
      "alpha         : 1e-05\n",
      "score         : 0.794223957203788\n",
      "\n",
      "activation    : logistic\n",
      "num. iteration: 1000\n",
      "capas         : (100,)\n",
      "alpha         : 1e-05\n",
      "score         : 0.801453047061375\n",
      "\n",
      "activation    : logistic\n",
      "num. iteration: 1000\n",
      "capas         : (100, 10)\n",
      "alpha         : 1e-05\n",
      "score         : 0.7933203209715897\n",
      "\n",
      "activation    : logistic\n",
      "num. iteration: 1000\n",
      "capas         : (100, 20)\n",
      "alpha         : 1e-05\n",
      "score         : 0.8017241379310345\n",
      "\n",
      "activation    : logistic\n",
      "num. iteration: 1000\n",
      "capas         : (100, 50)\n",
      "alpha         : 1e-05\n",
      "score         : 0.7912961758114654\n",
      "\n",
      "activation    : logistic\n",
      "num. iteration: 1000\n",
      "capas         : (100, 50, 20)\n",
      "alpha         : 1e-05\n",
      "score         : 0.7873563218390804\n",
      "\n"
     ]
    }
   ],
   "source": [
    "#Variables para capturar el mejor score para el conjunto de datos 1\n",
    "score = 0\n",
    "mejor_score = 0\n",
    "mejor_alpha = 0\n",
    "mejor_capa = None\n",
    "mejor_clf = None\n",
    "\n",
    "for alpha in alphas:\n",
    "    for capa in capas:\n",
    "        clf = MLPClassifier(activation='logistic', alpha=alpha, hidden_layer_sizes=capa, max_iter=1000)\n",
    "        clf.fit(X_train1, y_train1) \n",
    "        print('activation    : logistic')\n",
    "        print('num. iteration: 1000')\n",
    "        print('capas         :', capa)\n",
    "        print('alpha         :', alpha)\n",
    "        print('score         :', clf.score(X_val1, y_val1))\n",
    "        print('')\n",
    "        if(mejor_score<score):\n",
    "            mejor_score = score\n",
    "            mejor_alpha = alpha\n",
    "            mejor_capa = capa\n",
    "            mejor_clf = clf"
   ]
  },
  {
   "cell_type": "code",
   "execution_count": null,
   "metadata": {
    "collapsed": true
   },
   "outputs": [],
   "source": [
    "#Revisamos el score para el conjunto de datos de prueba\n",
    "print('Conjunto de datos 1')\n",
    "print('===================')\n",
    "print('Score validación:', mejor_score)\n",
    "print('Score prueba    :', mejor_clf.score(X_test1, y_test1))"
   ]
  },
  {
   "cell_type": "code",
   "execution_count": null,
   "metadata": {
    "collapsed": true
   },
   "outputs": [],
   "source": [
    "#Inicializamos nuevamente las variables para capturar el mejor score para el conjunto de datos 2\n",
    "score = 0\n",
    "mejor_score = 0\n",
    "mejor_alpha = 0\n",
    "mejor_capa = None\n",
    "mejor_clf = None\n",
    "for alpha in alphas:\n",
    "    for capa in capas:\n",
    "        clf = MLPClassifier(activation='logistic', alpha=alpha, hidden_layer_sizes=capa, max_iter=1000)\n",
    "        clf.fit(X_train2, y_train2) \n",
    "        score = clf.score(X_val2, y_val2)\n",
    "        print('activation    : logistic')\n",
    "        print('num. iteration: 1000')\n",
    "        print('capas         :', capa)\n",
    "        print('alpha         :', alpha)\n",
    "        print('score         :', score)\n",
    "        print('')\n",
    "        if(mejor_score<score):\n",
    "            mejor_score = score\n",
    "            mejor_alpha = alpha\n",
    "            mejor_capa = capa\n",
    "            mejor_clf = clf"
   ]
  },
  {
   "cell_type": "code",
   "execution_count": null,
   "metadata": {
    "collapsed": true
   },
   "outputs": [],
   "source": [
    "#Revisamos el score para el conjunto de datos 2 de prueba\n",
    "print('Conjunto de datos 2')\n",
    "print('===================')\n",
    "print('Score validación:', mejor_score)\n",
    "print('Score prueba    :', mejor_clf.score(X_test2, y_test2))"
   ]
  },
  {
   "cell_type": "markdown",
   "metadata": {},
   "source": [
    "Se realizaron las mismas pruebas con el modelo MLPRegressor, pero se obtuvo un score muy bajo. Por ello no se considera en el notebook todas las pruebas, solo un ejemplo de ellas."
   ]
  },
  {
   "cell_type": "code",
   "execution_count": null,
   "metadata": {
    "collapsed": true
   },
   "outputs": [],
   "source": [
    "from sklearn.neural_network import MLPRegressor"
   ]
  },
  {
   "cell_type": "code",
   "execution_count": null,
   "metadata": {
    "collapsed": true
   },
   "outputs": [],
   "source": [
    "clf2 = MLPRegressor(activation='logistic', max_iter=1000)"
   ]
  },
  {
   "cell_type": "code",
   "execution_count": null,
   "metadata": {
    "collapsed": true
   },
   "outputs": [],
   "source": [
    "clf2.fit(X_train1, y_train1) "
   ]
  },
  {
   "cell_type": "code",
   "execution_count": null,
   "metadata": {
    "collapsed": true
   },
   "outputs": [],
   "source": [
    "clf2.score(X_test1, y_test1) "
   ]
  }
 ],
 "metadata": {
  "kernelspec": {
   "display_name": "Python 3",
   "language": "python",
   "name": "python3"
  },
  "language_info": {
   "codemirror_mode": {
    "name": "ipython",
    "version": 3
   },
   "file_extension": ".py",
   "mimetype": "text/x-python",
   "name": "python",
   "nbconvert_exporter": "python",
   "pygments_lexer": "ipython3",
   "version": "3.6.3"
  }
 },
 "nbformat": 4,
 "nbformat_minor": 2
}
